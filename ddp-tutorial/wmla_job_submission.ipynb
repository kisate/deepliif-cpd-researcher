{
 "cells": [
  {
   "cell_type": "markdown",
   "metadata": {
    "id": "323c4a86-a69d-4b72-801e-ca3574399fc9",
    "tags": []
   },
   "source": [
    "## WML-A Job Submission via WML-A CLI for DDP training\n",
    "\n",
    "Offical examples can be found here: https://wmla-console-cpd-wmla.apps.cpd.mskcc.org/ui/#/cliTools\n",
    "\n",
    "This example uses a shared storage volume between the CPD project and the training job in WMLA."
   ]
  },
  {
   "cell_type": "markdown",
   "metadata": {
    "id": "18c7fa76-9bcd-4d57-b812-1b251c342952"
   },
   "source": [
    "### Setup\n",
    "\n",
    "Let's first setup some important paths.\n",
    "\n",
    "*HOST* and *BASE_URL* point to cmd and wml endpoints.\n",
    "\n",
    "*dlicmd* holds path to the wmla cli tool downloaded locally."
   ]
  },
  {
   "cell_type": "code",
   "execution_count": 1,
   "metadata": {
    "id": "9a0475e8-bcb3-4424-8c39-873935847fc4",
    "tags": []
   },
   "outputs": [
    {
     "name": "stdout",
     "output_type": "stream",
     "text": [
      "env: HOST=wmla-console-cpd.apps.cpd.mskcc.org\n",
      "env: BASE_URL=https://cpd-cpd.apps.cpd.mskcc.org\n",
      "env: dlicmd=../wmla-utils/dlicmd.py\n"
     ]
    }
   ],
   "source": [
    "%env HOST=wmla-console-cpd.apps.cpd.mskcc.org\n",
    "%env BASE_URL=https://cpd-cpd.apps.cpd.mskcc.org\n",
    "\n",
    "%env dlicmd=../wmla-utils/dlicmd.py"
   ]
  },
  {
   "cell_type": "markdown",
   "metadata": {
    "id": "3f46108c-e76b-44a0-9da4-487ab5450c1f"
   },
   "source": [
    "Next we setup the volume that we will use to store data and training artifacts.\n",
    "\n",
    "We will need it's display name, the path to the data and the path to save the trained model. \n",
    "\n",
    "The paths are the same in the cpd project environment and wmla environment where the model will be running."
   ]
  },
  {
   "cell_type": "code",
   "execution_count": 6,
   "metadata": {
    "id": "2f72c253-2abe-4c57-93e9-ff236eef3d0a",
    "tags": []
   },
   "outputs": [
    {
     "name": "stdout",
     "output_type": "stream",
     "text": [
      "env: DRIVE_DATA_PATH=/mnts/demo_project_pvc/data\n",
      "env: DRIVE_MODEL_PATH=/mnts/demo_project_pvc/model\n"
     ]
    }
   ],
   "source": [
    "VOLUME_DISPLAY_NAME='cpd::demo-project-pvc'\n",
    "\n",
    "%env DRIVE_DATA_PATH=/mnts/demo_project_pvc/data\n",
    "%env DRIVE_MODEL_PATH=/mnts/demo_project_pvc/model"
   ]
  },
  {
   "cell_type": "markdown",
   "metadata": {
    "id": "33a3e714-8cd5-4739-8702-f83fb4d76858"
   },
   "source": [
    "Now let's download the data."
   ]
  },
  {
   "cell_type": "code",
   "execution_count": 7,
   "metadata": {
    "id": "bce83a5e-795c-4edc-ad24-ddb2256d33cb",
    "tags": []
   },
   "outputs": [
    {
     "name": "stdout",
     "output_type": "stream",
     "text": [
      "Files already downloaded and verified\n",
      "Files already downloaded and verified\n"
     ]
    }
   ],
   "source": [
    "import torchvision\n",
    "import os\n",
    "from torchvision import transforms\n",
    "\n",
    "transform = transforms.Compose(\n",
    "        [transforms.ToTensor(),\n",
    "         transforms.Normalize((0.5, 0.5, 0.5), (0.5, 0.5, 0.5))])\n",
    "\n",
    "trainset = torchvision.datasets.CIFAR10(root=os.getenv('DRIVE_DATA_PATH'), train=True,\n",
    "                                            download=True, transform=transform)\n",
    "testset = torchvision.datasets.CIFAR10(root=os.getenv('DRIVE_DATA_PATH'), train=False,\n",
    "                                       download=True, transform=transform)"
   ]
  },
  {
   "cell_type": "markdown",
   "metadata": {
    "id": "5b383562-c544-48a5-8bc2-89001a46398b"
   },
   "source": [
    "### Submit Jobs\n",
    "\n",
    "First we select the folder to submit and the script to be executed from it."
   ]
  },
  {
   "cell_type": "code",
   "execution_count": 8,
   "metadata": {
    "id": "b58687a3-7084-416c-a2ac-e1dc3bd2a032",
    "tags": []
   },
   "outputs": [
    {
     "name": "stdout",
     "output_type": "stream",
     "text": [
      "env: DIR_job_submission=/userfs/ddp-tutorial/job_submission\n",
      "env: file_exec=train_wmla.py\n"
     ]
    }
   ],
   "source": [
    "%env DIR_job_submission=/userfs/ddp-tutorial/job_submission\n",
    "%env file_exec=train_wmla.py"
   ]
  },
  {
   "cell_type": "code",
   "execution_count": 9,
   "metadata": {
    "id": "26f633b7-a2a8-4733-b31b-f4d649543e00",
    "tags": []
   },
   "outputs": [
    {
     "name": "stdout",
     "output_type": "stream",
     "text": [
      "env: DATA_SOURCE=[{\"type\":\"fs\",\"location\":{\"volume\":\"cpd::demo-project-pvc\"}}]\n"
     ]
    }
   ],
   "source": [
    "#Volume connection description JSON \n",
    "data_source = '[{\\\"type\":\"fs\",\"location\":{\"volume\":\"%s\"}}]'%(VOLUME_DISPLAY_NAME) \n",
    "\n",
    "%env DATA_SOURCE = $data_source"
   ]
  },
  {
   "cell_type": "markdown",
   "metadata": {
    "id": "9f606775-12a1-41a8-9f1d-1b1ba4bb5648"
   },
   "source": [
    "And now we send the job."
   ]
  },
  {
   "cell_type": "code",
   "execution_count": 10,
   "metadata": {
    "id": "c35c45d6-49e2-4c08-9b65-006a52ff04a2",
    "tags": []
   },
   "outputs": [
    {
     "name": "stdout",
     "output_type": "stream",
     "text": [
      "Copying files and directories ...\n",
      "Content size: 2.8K\n",
      "{\n",
      "  \"execId\": \"cpd-111\",\n",
      "  \"appId\": \"cpd-111\"\n",
      "}\n"
     ]
    }
   ],
   "source": [
    "!python $dlicmd --exec-start distPyTorch --rest-host $HOST --rest-port -1 --jwt-token $USER_ACCESS_TOKEN \\\n",
    "                  --msd-env USER_ACCESS_TOKEN=$USER_ACCESS_TOKEN --msd-env BASE_URL=$BASE_URL \\\n",
    "                  --msd-env DRIVE_DATA_PATH=$DRIVE_DATA_PATH --msd-env DRIVE_MODEL_PATH=$DRIVE_MODEL_PATH \\\n",
    "                  --numWorker 6 --workerMemory 8g \\\n",
    "                  --model-dir $DIR_job_submission --model-main $file_exec \\\n",
    "                  --data-source $DATA_SOURCE \\\n",
    "                  --appName \"DDP Tutorial\""
   ]
  },
  {
   "cell_type": "code",
   "execution_count": 11,
   "metadata": {
    "id": "b2617082-5911-42f3-bfbd-b079c3e14de1",
    "tags": []
   },
   "outputs": [
    {
     "name": "stdout",
     "output_type": "stream",
     "text": [
      "env: APP_ID=cpd-111\n"
     ]
    }
   ],
   "source": [
    "#Update the app id\n",
    "%env APP_ID=cpd-111"
   ]
  },
  {
   "cell_type": "markdown",
   "metadata": {
    "id": "08726af6-6869-469d-9a1b-67b8af1dbe9c"
   },
   "source": [
    "### Submit Jobs\n",
    "#### distPyTorch (multiprocessing using DDP)\n",
    "This does not apply because the training code does not use DDP."
   ]
  },
  {
   "cell_type": "markdown",
   "metadata": {
    "id": "10ab43f9-45c9-443c-836e-70b8d93201a5"
   },
   "source": [
    "### Delete Jobs (and associated results/logs)\n",
    "#### delete one job"
   ]
  },
  {
   "cell_type": "code",
   "execution_count": 13,
   "metadata": {
    "id": "9187399d-98df-4842-ae9f-03d83db495e7",
    "tags": []
   },
   "outputs": [],
   "source": [
    "# !python $dlicmd --exec-delete $cpd-38 --rest-host $HOST --rest-port -1 --jwt-token $USER_ACCESS_TOKEN "
   ]
  },
  {
   "cell_type": "markdown",
   "metadata": {
    "id": "a87fd618-0d5d-4f7d-b14c-abf160171a63"
   },
   "source": [
    "### Get Job Status"
   ]
  },
  {
   "cell_type": "code",
   "execution_count": 14,
   "metadata": {
    "id": "5c1ffd65-e531-4fbc-9cef-7d9d47020d24",
    "tags": []
   },
   "outputs": [
    {
     "name": "stdout",
     "output_type": "stream",
     "text": [
      "{\n",
      "  \"id\": \"cpd-111\",\n",
      "  \"args\": \"--exec-start distPyTorch --msd-env USER_ACCESS_TOKEN=eyJhbGciOiJSUzI1NiIsInR5cCI6IkpXVCIsImtpZCI6IjNMVWFNdUp3UE1nNkhpaTZZQTZrTWhfNWxJYTZlQ0hpbkNtejNzXzBOYUUifQ.eyJ1aWQiOiIxMDAwMzMxMDg5IiwidXNlcm5hbWUiOiJraGFybGFkIiwicm9sZSI6IlVzZXIiLCJwZXJtaXNzaW9ucyI6WyJjcmVhdGVfcHJvamVjdCIsImFjY2Vzc19jYXRhbG9nIiwiYWNjZXNzX2luZm9ybWF0aW9uX2Fzc2V0cyIsInZpZXdfcXVhbGl0eSIsImNyZWF0ZV9zcGFjZSIsIm1hbmFnZV9pbmZvcm1hdGlvbl9hc3NldHMiLCJtYW5hZ2VfbWV0YWRhdGFfaW1wb3J0IiwibWFuYWdlX2Rpc2NvdmVyeSIsIm1hbmFnZV9xdWFsaXR5Iiwidmlld19nb3Zlcm5hbmNlX2FydGlmYWN0cyIsImF1dGhvcl9nb3Zlcm5hbmNlX2FydGlmYWN0cyIsImNhbl9wcm92aXNpb24iLCJzaWduX2luX29ubHkiXSwiZ3JvdXBzIjpbMTAwMDBdLCJzdWIiOiJraGFybGFkIiwiaXNzIjoiS05PWFNTTyIsImF1ZCI6IkRTWCIsImlhdCI6MTY5ODM0ODE1MiwiZXhwIjo1Mjk4MzQ0NTUyfQ.UQbBSX4LJvF6sFl0LoGB4lxV84iTe63oKOeVAoZjlZBMhTf4h5iLR47r4bgS9sdmkznItZXTqv5DWQERTxZEjclAJzwhjp2vGlhoUEVtsh5L2GDCiNtxcPWwTSZDhwSvjBNNn6Bu5lQcA2d-yFUR2e4uYcnybFJJBU3R61-rzPz82zgZjxjP3EeT4XUttg5rr022uTYavY9X-i5hORRNaqT1nu7QyfQ9-759fAtUBhRw8fwEQrnq4ClWX3bxxvqCF2c88hSbMTsa-dbWzI93dx1Fa2aiX1evhAXPVEH-H9So-3bcSnxANkV-0qyF7K2zr8A5oDZLoD4FJXY7La6JZA --msd-env BASE_URL=https://cpd-cpd.apps.cpd.mskcc.org --msd-env DRIVE_DATA_PATH=/mnts/demo_project_pvc/data --msd-env DRIVE_MODEL_PATH=/mnts/demo_project_pvc/model --numWorker 6 --workerMemory 8g --model-dir job_submission --model-main train_wmla.py --appName DDP Tutorial \",\n",
      "  \"submissionId\": \"cpd-111\",\n",
      "  \"creator\": \"kharlad\",\n",
      "  \"state\": \"RUNNING\",\n",
      "  \"appId\": \"cpd-111\",\n",
      "  \"schedulerUrl\": \"https://wmla-mss.cpd.svc:9080\",\n",
      "  \"modelFileOwnerName\": \"wmla\",\n",
      "  \"workDir\": \"/gpfs/myresultfs/kharlad/batchworkdir/cpd-111/_submitted_code/job_submission\",\n",
      "  \"appName\": \"DDP\",\n",
      "  \"createTime\": \"2023-10-27T16:27:29Z\",\n",
      "  \"elastic\": false,\n",
      "  \"nameSpace\": \"cpd\",\n",
      "  \"numWorker\": 6,\n",
      "  \"framework\": \"distPyTorch\",\n",
      "  \"dataSource\": [\n",
      "    {\n",
      "      \"type\": \"fs\",\n",
      "      \"location\": {\n",
      "        \"volume\": \"cpd::demo-project-pvc\"\n",
      "      }\n",
      "    }\n",
      "  ],\n",
      "  \"runningDuration\": \"10s\",\n",
      "  \"parallelJobInfo\": {\n",
      "    \"status\": {\n",
      "      \"jobStatus\": \"Running\"\n",
      "    },\n",
      "    \"spec\": [\n",
      "      {\n",
      "        \"taskGroups\": {\n",
      "          \"metadata\": {\n",
      "            \"name\": \"task12n\",\n",
      "            \"annotations\": {\n",
      "              \"lsf.ibm.com/gpu\": \"\"\n",
      "            }\n",
      "          },\n",
      "          \"spec\": {\n",
      "            \"replica\": 6,\n",
      "            \"template\": {\n",
      "              \"spec\": {\n",
      "                \"containers\": {\n",
      "                  \"resources\": {\n",
      "                    \"requests\": {\n",
      "                      \"memory\": \"8192.000000Mi\"\n",
      "                    },\n",
      "                    \"limits\": {\n",
      "                      \"memory\": \"8192.000000Mi\"\n",
      "                    }\n",
      "                  }\n",
      "                }\n",
      "              }\n",
      "            }\n",
      "          }\n",
      "        }\n",
      "      }\n",
      "    ]\n",
      "  }\n",
      "}\n"
     ]
    }
   ],
   "source": [
    "!python $dlicmd --exec-get $APP_ID --rest-host $HOST --rest-port -1 --jwt-token $USER_ACCESS_TOKEN"
   ]
  },
  {
   "cell_type": "markdown",
   "metadata": {
    "id": "31923da7-9f80-4634-bd8e-4fd99b1ce687"
   },
   "source": [
    "### Get Job Log\n",
    "#### last 10 lines"
   ]
  },
  {
   "cell_type": "code",
   "execution_count": 15,
   "metadata": {
    "id": "90b9325a-6aa6-402f-872d-91e2482c5025",
    "tags": []
   },
   "outputs": [
    {
     "name": "stdout",
     "output_type": "stream",
     "text": [
      "================================================================================\n",
      "Executor 1 stdout\n",
      "*Task <1> SubProcess*: drwxrwx---. 3 1000670000 103000 4096 Oct 27 12:17 data\n",
      "*Task <1> SubProcess*: drwxr-x---. 8 1000670000 root   4096 Oct 27 16:18 model\n",
      "*Task <1> SubProcess*: 2023-10-27 16:27:57.761186 450 INFO Save log files under /gpfs/myresultfs/kharlad/batchworkdir/cpd-111/log/app.cpd-111-task12n-fdrrn\n",
      "*Task <1> SubProcess*: 2023-10-27 16:27:57.777017 450 INFO Start running user model\n",
      "*Task <1> SubProcess*: /gpfs/myresultfs/kharlad/batchworkdir/cpd-111/_submitted_code/job_submission/train_wmla.py Tutorial\n",
      "*Task <1> SubProcess*: ------ initiate process group... ------\n",
      "*Task <1> SubProcess*: RANK: 0 0\n",
      "*Task <1> SubProcess*: Training...\n",
      "*Task <1> SubProcess*: Validation set: Average loss: 2.3032\tAccuracy 0.1014\n",
      "*Task <1> SubProcess*: ** Validation: 0.101400 (best) - 0.101400 (current)\n",
      "\n",
      "\n",
      "================================================================================\n",
      "Executor 2 stdout\n",
      "*Task <2> SubProcess*: total 2\n",
      "*Task <2> SubProcess*: drwxr-x---. 7 1000670000 root   4096 Oct 25 14:44 checkpoints\n",
      "*Task <2> SubProcess*: drwxrwx---. 3 1000670000 103000 4096 Oct 27 12:17 data\n",
      "*Task <2> SubProcess*: drwxr-x---. 8 1000670000 root   4096 Oct 27 16:18 model\n",
      "*Task <2> SubProcess*: 2023-10-27 16:27:57.990466 456 INFO Save log files under /gpfs/myresultfs/kharlad/batchworkdir/cpd-111/log/app.cpd-111-task12n-fgx9j\n",
      "*Task <2> SubProcess*: 2023-10-27 16:27:58.006773 456 INFO Start running user model\n",
      "*Task <2> SubProcess*: /gpfs/myresultfs/kharlad/batchworkdir/cpd-111/_submitted_code/job_submission/train_wmla.py Tutorial\n",
      "*Task <2> SubProcess*: ------ initiate process group... ------\n",
      "*Task <2> SubProcess*: RANK: 1 0\n",
      "*Task <2> SubProcess*: Training...\n",
      "\n",
      "\n",
      "================================================================================\n",
      "Executor 3 stdout\n",
      "*Task <3> SubProcess*: total 2\n",
      "*Task <3> SubProcess*: drwxr-x---. 7 1000670000 root   4096 Oct 25 14:44 checkpoints\n",
      "*Task <3> SubProcess*: drwxrwx---. 3 1000670000 103000 4096 Oct 27 12:17 data\n",
      "*Task <3> SubProcess*: drwxr-x---. 8 1000670000 root   4096 Oct 27 16:18 model\n",
      "*Task <3> SubProcess*: 2023-10-27 16:27:57.902755 455 INFO Save log files under /gpfs/myresultfs/kharlad/batchworkdir/cpd-111/log/app.cpd-111-task12n-rftzb\n",
      "*Task <3> SubProcess*: 2023-10-27 16:27:57.917907 455 INFO Start running user model\n",
      "*Task <3> SubProcess*: /gpfs/myresultfs/kharlad/batchworkdir/cpd-111/_submitted_code/job_submission/train_wmla.py Tutorial\n",
      "*Task <3> SubProcess*: ------ initiate process group... ------\n",
      "*Task <3> SubProcess*: RANK: 2 0\n",
      "*Task <3> SubProcess*: Training...\n",
      "\n",
      "\n",
      "================================================================================\n",
      "Executor 4 stdout\n",
      "*Task <4> SubProcess*: total 2\n",
      "*Task <4> SubProcess*: drwxr-x---. 7 1000670000 root   4096 Oct 25 14:44 checkpoints\n",
      "*Task <4> SubProcess*: drwxrwx---. 3 1000670000 103000 4096 Oct 27 12:17 data\n",
      "*Task <4> SubProcess*: drwxr-x---. 8 1000670000 root   4096 Oct 27 16:18 model\n",
      "*Task <4> SubProcess*: 2023-10-27 16:27:58.616757 453 INFO Save log files under /gpfs/myresultfs/kharlad/batchworkdir/cpd-111/log/app.cpd-111-task12n-v8mq8\n",
      "*Task <4> SubProcess*: 2023-10-27 16:27:58.632283 453 INFO Start running user model\n",
      "*Task <4> SubProcess*: /gpfs/myresultfs/kharlad/batchworkdir/cpd-111/_submitted_code/job_submission/train_wmla.py Tutorial\n",
      "*Task <4> SubProcess*: ------ initiate process group... ------\n",
      "*Task <4> SubProcess*: RANK: 3 0\n",
      "*Task <4> SubProcess*: Training...\n",
      "\n",
      "\n",
      "================================================================================\n",
      "Executor 5 stdout\n",
      "*Task <5> SubProcess*: total 2\n",
      "*Task <5> SubProcess*: drwxr-x---. 7 1000670000 root   4096 Oct 25 14:44 checkpoints\n",
      "*Task <5> SubProcess*: drwxrwx---. 3 1000670000 103000 4096 Oct 27 12:17 data\n",
      "*Task <5> SubProcess*: drwxr-x---. 8 1000670000 root   4096 Oct 27 16:18 model\n",
      "*Task <5> SubProcess*: 2023-10-27 16:27:58.374849 451 INFO Save log files under /gpfs/myresultfs/kharlad/batchworkdir/cpd-111/log/app.cpd-111-task12n-2tcbx\n",
      "*Task <5> SubProcess*: 2023-10-27 16:27:58.391391 451 INFO Start running user model\n",
      "*Task <5> SubProcess*: /gpfs/myresultfs/kharlad/batchworkdir/cpd-111/_submitted_code/job_submission/train_wmla.py Tutorial\n",
      "*Task <5> SubProcess*: ------ initiate process group... ------\n",
      "*Task <5> SubProcess*: RANK: 4 0\n",
      "*Task <5> SubProcess*: Training...\n",
      "\n",
      "\n",
      "================================================================================\n",
      "Executor 6 stdout\n",
      "*Task <6> SubProcess*: total 2\n",
      "*Task <6> SubProcess*: drwxr-x---. 7 1000670000 root   4096 Oct 25 14:44 checkpoints\n",
      "*Task <6> SubProcess*: drwxrwx---. 3 1000670000 103000 4096 Oct 27 12:17 data\n",
      "*Task <6> SubProcess*: drwxr-x---. 8 1000670000 root   4096 Oct 27 16:18 model\n",
      "*Task <6> SubProcess*: 2023-10-27 16:27:58.617461 449 INFO Save log files under /gpfs/myresultfs/kharlad/batchworkdir/cpd-111/log/app.cpd-111-task12n-bb8k2\n",
      "*Task <6> SubProcess*: 2023-10-27 16:27:58.633149 449 INFO Start running user model\n",
      "*Task <6> SubProcess*: /gpfs/myresultfs/kharlad/batchworkdir/cpd-111/_submitted_code/job_submission/train_wmla.py Tutorial\n",
      "*Task <6> SubProcess*: ------ initiate process group... ------\n",
      "*Task <6> SubProcess*: RANK: 5 0\n",
      "*Task <6> SubProcess*: Training...\n",
      "\n",
      "\n"
     ]
    }
   ],
   "source": [
    "!python $dlicmd --exec-outlogs $APP_ID --rest-host $HOST --rest-port -1 --jwt-token $USER_ACCESS_TOKEN"
   ]
  },
  {
   "cell_type": "markdown",
   "metadata": {
    "id": "c39642d8-775f-40dc-9738-c92fa21ed805"
   },
   "source": [
    "### Full logs"
   ]
  },
  {
   "cell_type": "code",
   "execution_count": 16,
   "metadata": {
    "id": "6cd840da-957c-4725-8a8d-b2879ab9e172",
    "tags": []
   },
   "outputs": [
    {
     "name": "stdout",
     "output_type": "stream",
     "text": [
      "------ initiate process group... ------\n",
      "RANK: 3 0\n",
      "Training...\n",
      "------ initiate process group... ------\n",
      "RANK: 1 0\n",
      "Training...\n",
      "------ initiate process group... ------\n",
      "RANK: 4 0\n",
      "Training...\n",
      "------ initiate process group... ------\n",
      "RANK: 5 0\n",
      "Training...\n",
      "------ initiate process group... ------\n",
      "RANK: 0 0\n",
      "Training...\n",
      "Validation set: Average loss: 2.3032\tAccuracy 0.1014\n",
      "** Validation: 0.101400 (best) - 0.101400 (current)\n",
      "Validation set: Average loss: 2.3019\tAccuracy 0.1121\n",
      "** Validation: 0.112100 (best) - 0.112100 (current)\n",
      "------ initiate process group... ------\n",
      "RANK: 2 0\n",
      "Training...\n",
      "\n"
     ]
    }
   ],
   "source": [
    "!python $dlicmd --exec-trainoutlogs $APP_ID --rest-host $HOST --rest-port -1 --jwt-token $USER_ACCESS_TOKEN "
   ]
  },
  {
   "cell_type": "markdown",
   "metadata": {
    "id": "d2b9bdd4-7e4b-45b6-bc9c-59c6eeb70c7e"
   },
   "source": [
    "#### Errors"
   ]
  },
  {
   "cell_type": "code",
   "execution_count": 17,
   "metadata": {
    "id": "a84e3f7e-71f8-402e-89ec-81a2ed43633f",
    "tags": []
   },
   "outputs": [
    {
     "name": "stdout",
     "output_type": "stream",
     "text": [
      "\n"
     ]
    }
   ],
   "source": [
    "!python $dlicmd --exec-trainerrlogs $APP_ID --rest-host $HOST --rest-port -1 --jwt-token $USER_ACCESS_TOKEN"
   ]
  },
  {
   "cell_type": "code",
   "execution_count": null,
   "metadata": {
    "id": "b57c25ee-7bee-42bc-b916-b3d90474cbd0"
   },
   "outputs": [],
   "source": []
  },
  {
   "cell_type": "code",
   "execution_count": null,
   "metadata": {
    "id": "886ed99b-feff-4154-ad85-a9abed812644"
   },
   "outputs": [],
   "source": []
  }
 ],
 "metadata": {
  "kernelspec": {
   "display_name": "Python 3.10",
   "language": "python",
   "name": "python3"
  },
  "language_info": {
   "codemirror_mode": {
    "name": "ipython",
    "version": 3
   },
   "file_extension": ".py",
   "mimetype": "text/x-python",
   "name": "python",
   "nbconvert_exporter": "python",
   "pygments_lexer": "ipython3",
   "version": "3.10.6"
  }
 },
 "nbformat": 4,
 "nbformat_minor": 4
}
