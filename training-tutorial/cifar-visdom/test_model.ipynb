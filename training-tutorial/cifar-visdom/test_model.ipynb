{
 "cells": [
  {
   "cell_type": "markdown",
   "id": "defined-factor",
   "metadata": {
    "id": "7cfa7b9a-3e0e-4b05-ba8e-99a3497fbacd"
   },
   "source": [
    "# Test Model"
   ]
  },
  {
   "cell_type": "code",
   "execution_count": 1,
   "id": "stopped-chester",
   "metadata": {
    "id": "bc1beb4c-9305-4977-a111-1383facc1fd9",
    "tags": []
   },
   "outputs": [],
   "source": [
    "import torch\n",
    "import torch.nn as nn\n",
    "import torch.nn.functional as F\n",
    "import torchvision\n",
    "from torchvision import transforms\n",
    "import numpy as np"
   ]
  },
  {
   "cell_type": "markdown",
   "id": "banned-rachel",
   "metadata": {
    "id": "82b7e76b-7ea5-4bf9-b9fc-190f6824fdc0"
   },
   "source": [
    "## 1. Definie and Load Model"
   ]
  },
  {
   "cell_type": "code",
   "execution_count": 2,
   "id": "lucky-wiring",
   "metadata": {
    "id": "889eabb2-24aa-46b2-b873-210993f443ed",
    "tags": []
   },
   "outputs": [],
   "source": [
    "class Net(nn.Module):\n",
    "    def __init__(self):\n",
    "        super(Net, self).__init__()\n",
    "        self.conv1 = nn.Conv2d(3, 6, 5)\n",
    "        self.pool = nn.MaxPool2d(2, 2)\n",
    "        self.conv2 = nn.Conv2d(6, 16, 5)\n",
    "        self.fc1 = nn.Linear(16 * 5 * 5, 120)\n",
    "        self.fc2 = nn.Linear(120, 84)\n",
    "        self.fc3 = nn.Linear(84, 10)\n",
    "\n",
    "    def forward(self, x):\n",
    "        x = self.pool(F.relu(self.conv1(x)))\n",
    "        x = self.pool(F.relu(self.conv2(x)))\n",
    "        x = x.view(-1, 16 * 5 * 5)\n",
    "        x = F.relu(self.fc1(x))\n",
    "        x = F.relu(self.fc2(x))\n",
    "        x = self.fc3(x)\n",
    "        return x"
   ]
  },
  {
   "cell_type": "code",
   "execution_count": 4,
   "id": "moderate-strengthening",
   "metadata": {
    "id": "f7e8f256-1b68-4a65-9ec7-ab2a712aee9d",
    "tags": []
   },
   "outputs": [
    {
     "data": {
      "text/plain": [
       "Net(\n",
       "  (conv1): Conv2d(3, 6, kernel_size=(5, 5), stride=(1, 1))\n",
       "  (pool): MaxPool2d(kernel_size=2, stride=2, padding=0, dilation=1, ceil_mode=False)\n",
       "  (conv2): Conv2d(6, 16, kernel_size=(5, 5), stride=(1, 1))\n",
       "  (fc1): Linear(in_features=400, out_features=120, bias=True)\n",
       "  (fc2): Linear(in_features=120, out_features=84, bias=True)\n",
       "  (fc3): Linear(in_features=84, out_features=10, bias=True)\n",
       ")"
      ]
     },
     "execution_count": 4,
     "metadata": {},
     "output_type": "execute_result"
    }
   ],
   "source": [
    "# load model\n",
    "model = Net()\n",
    "model.load_state_dict(torch.load('model/model.pt'))\n",
    "\n",
    "model.eval()"
   ]
  },
  {
   "cell_type": "markdown",
   "id": "inappropriate-recruitment",
   "metadata": {
    "id": "eccfb709-8300-499e-9cf7-8d87e9fe2817"
   },
   "source": [
    "## 2. Get Image"
   ]
  },
  {
   "cell_type": "code",
   "execution_count": 5,
   "id": "later-integer",
   "metadata": {
    "id": "c1337161-d085-43c0-a01c-006bfb10d1ce",
    "tags": []
   },
   "outputs": [],
   "source": [
    "from PIL import Image\n",
    "from io import BytesIO\n",
    "\n",
    "# https://www.cs.toronto.edu/~kriz/cifar.html\n",
    "def unpickle(file):\n",
    "    import pickle\n",
    "    with open(file, 'rb') as fo:\n",
    "        dict = pickle.load(fo, encoding='bytes')\n",
    "    return dict"
   ]
  },
  {
   "cell_type": "code",
   "execution_count": 6,
   "id": "hearing-wildlife",
   "metadata": {
    "id": "5097744f-61a8-4384-b865-cab7b207fc69",
    "tags": []
   },
   "outputs": [
    {
     "ename": "FileNotFoundError",
     "evalue": "[Errno 2] No such file or directory: 'data/cifar-10-batches-py/data_batch_1'",
     "output_type": "error",
     "traceback": [
      "\u001b[0;31m---------------------------------------------------------------------------\u001b[0m",
      "\u001b[0;31mFileNotFoundError\u001b[0m                         Traceback (most recent call last)",
      "Input \u001b[0;32mIn [6]\u001b[0m, in \u001b[0;36m<cell line: 1>\u001b[0;34m()\u001b[0m\n\u001b[0;32m----> 1\u001b[0m d \u001b[38;5;241m=\u001b[39m \u001b[43munpickle\u001b[49m\u001b[43m(\u001b[49m\u001b[38;5;124;43m'\u001b[39;49m\u001b[38;5;124;43mdata/cifar-10-batches-py/data_batch_1\u001b[39;49m\u001b[38;5;124;43m'\u001b[39;49m\u001b[43m)\u001b[49m\n",
      "Input \u001b[0;32mIn [5]\u001b[0m, in \u001b[0;36munpickle\u001b[0;34m(file)\u001b[0m\n\u001b[1;32m      5\u001b[0m \u001b[38;5;28;01mdef\u001b[39;00m \u001b[38;5;21munpickle\u001b[39m(file):\n\u001b[1;32m      6\u001b[0m     \u001b[38;5;28;01mimport\u001b[39;00m \u001b[38;5;21;01mpickle\u001b[39;00m\n\u001b[0;32m----> 7\u001b[0m     \u001b[38;5;28;01mwith\u001b[39;00m \u001b[38;5;28;43mopen\u001b[39;49m\u001b[43m(\u001b[49m\u001b[43mfile\u001b[49m\u001b[43m,\u001b[49m\u001b[43m \u001b[49m\u001b[38;5;124;43m'\u001b[39;49m\u001b[38;5;124;43mrb\u001b[39;49m\u001b[38;5;124;43m'\u001b[39;49m\u001b[43m)\u001b[49m \u001b[38;5;28;01mas\u001b[39;00m fo:\n\u001b[1;32m      8\u001b[0m         \u001b[38;5;28mdict\u001b[39m \u001b[38;5;241m=\u001b[39m pickle\u001b[38;5;241m.\u001b[39mload(fo, encoding\u001b[38;5;241m=\u001b[39m\u001b[38;5;124m'\u001b[39m\u001b[38;5;124mbytes\u001b[39m\u001b[38;5;124m'\u001b[39m)\n\u001b[1;32m      9\u001b[0m     \u001b[38;5;28;01mreturn\u001b[39;00m \u001b[38;5;28mdict\u001b[39m\n",
      "\u001b[0;31mFileNotFoundError\u001b[0m: [Errno 2] No such file or directory: 'data/cifar-10-batches-py/data_batch_1'"
     ]
    }
   ],
   "source": [
    "d = unpickle('data/cifar-10-batches-py/data_batch_1')"
   ]
  },
  {
   "cell_type": "code",
   "execution_count": 47,
   "id": "animal-fighter",
   "metadata": {
    "id": "16827e93-361d-43de-8d66-410fd4bcf772",
    "tags": []
   },
   "outputs": [
    {
     "name": "stdout",
     "output_type": "stream",
     "text": [
      "batch label: 114 \n",
      "label: 9 \n",
      "filename camion_s_000148.png\n"
     ]
    },
    {
     "data": {
      "image/png": "[encoded data removed]",
      "text/plain": [
       "<PIL.Image.Image image mode=RGB size=32x32 at 0x7F83A95AC3A0>"
      ]
     },
     "execution_count": 47,
     "metadata": {},
     "output_type": "execute_result"
    }
   ],
   "source": [
    "img_idx = 1\n",
    "\n",
    "array_flat = d[b'data'][img_idx]\n",
    "array_r = array_flat[0:1024].reshape(32, 32)\n",
    "array_g = array_flat[1024:2048].reshape(32, 32)\n",
    "array_b = array_flat[2048:].reshape(32, 32)\n",
    "array = np.dstack((array_r, array_g, array_b))\n",
    "\n",
    "fn = d[b'filenames'][img_idx].decode()\n",
    "label_true = d[b'labels'][img_idx]\n",
    "\n",
    "print('batch label:',d[b'batch_label'][img_idx],\n",
    "      '\\nlabel:',label_true,\n",
    "      '\\nfilename',fn)\n",
    "\n",
    "img = Image.fromarray(array)\n",
    "img"
   ]
  },
  {
   "cell_type": "code",
   "execution_count": 48,
   "id": "military-background",
   "metadata": {
    "id": "366f59a2-4a3e-4ddf-92c3-76c6f5a2aa13",
    "tags": []
   },
   "outputs": [],
   "source": [
    "img.save(fn)"
   ]
  },
  {
   "cell_type": "markdown",
   "id": "third-peeing",
   "metadata": {
    "id": "be89712a-46d0-46e7-9b50-278278ac6df4"
   },
   "source": [
    "## 3. Pass Image to Model"
   ]
  },
  {
   "cell_type": "code",
   "execution_count": 65,
   "id": "frank-distributor",
   "metadata": {
    "id": "ed0afc0c-3133-4a02-aeba-7dcbb1da0e3a",
    "tags": []
   },
   "outputs": [
    {
     "data": {
      "text/plain": [
       "0"
      ]
     },
     "execution_count": 65,
     "metadata": {},
     "output_type": "execute_result"
    }
   ],
   "source": [
    "img = Image.open(fn)\n",
    "transform = transforms.ToTensor()\n",
    "input_tensor = transform(img)\n",
    "input_tensor = torch.stack([input_tensor])\n",
    "\n",
    "pred = model(input_tensor)\n",
    "_, pred_class = torch.max(pred, 1)\n",
    "pred_class = int(pred_class[0].numpy())\n",
    "pred_class"
   ]
  }
 ],
 "metadata": {
  "kernelspec": {
   "display_name": "Python 3.10",
   "language": "python",
   "name": "python3"
  },
  "language_info": {
   "codemirror_mode": {
    "name": "ipython",
    "version": 3
   },
   "file_extension": ".py",
   "mimetype": "text/x-python",
   "name": "python",
   "nbconvert_exporter": "python",
   "pygments_lexer": "ipython3",
   "version": "3.10.6"
  }
 },
 "nbformat": 4,
 "nbformat_minor": 5
}
