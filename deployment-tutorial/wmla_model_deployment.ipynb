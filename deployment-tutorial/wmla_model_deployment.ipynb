{
 "cells": [
  {
   "cell_type": "markdown",
   "id": "together-turkish",
   "metadata": {
    "id": "f3dbd92a-d383-4ee4-9e6a-a3e1b442f3ab"
   },
   "source": [
    "# WML-A Model Deployment via CLI\n",
    "Offical examples can be found here: https://wmla-console-cpd-wmla.apps.cpd.mskcc.org/ui/#/cliTools"
   ]
  },
  {
   "cell_type": "code",
   "execution_count": 1,
   "id": "prescription-emperor",
   "metadata": {
    "id": "5943c35e-1e9e-40dd-ac51-7d580805d5b8",
    "tags": []
   },
   "outputs": [
    {
     "name": "stdout",
     "output_type": "stream",
     "text": [
      "env: DIR=/userfs/deployment-tutorial\n",
      "env: REST_SERVER=https://wmla-console-cpd.apps.cpd.mskcc.org/dlim/v1/\n",
      "env: dlim=../wmla-utils/dlim\n"
     ]
    }
   ],
   "source": [
    "%env DIR=/userfs/deployment-tutorial\n",
    "%env REST_SERVER=https://wmla-console-cpd.apps.cpd.mskcc.org/dlim/v1/\n",
    "\n",
    "%env dlim=../wmla-utils/dlim"
   ]
  },
  {
   "cell_type": "code",
   "execution_count": 2,
   "id": "considerable-shelter",
   "metadata": {
    "id": "305c68bc-beaf-4283-9e30-b039334dfdc9",
    "tags": []
   },
   "outputs": [],
   "source": [
    "import os\n",
    "os.environ['auth'] = f\"--rest-server {os.environ['REST_SERVER']} --jwt-token {os.environ['USER_ACCESS_TOKEN']}\""
   ]
  },
  {
   "cell_type": "markdown",
   "id": "micro-hygiene",
   "metadata": {
    "id": "6e1bf43a-591e-40e7-aa41-a60949052e40"
   },
   "source": [
    "## 1. Create Model Deployment\n",
    "Model / deployment name is specified in `model.json`. Whitesapce not allowed."
   ]
  },
  {
   "cell_type": "code",
   "execution_count": 3,
   "id": "0ed267ec-5cc8-4dca-b002-874c4112cadc",
   "metadata": {
    "id": "0ed267ec-5cc8-4dca-b002-874c4112cadc",
    "tags": []
   },
   "outputs": [
    {
     "ename": "KeyError",
     "evalue": "'REDHARE_MODEL_PATH'",
     "output_type": "error",
     "traceback": [
      "\u001b[0;31m---------------------------------------------------------------------------\u001b[0m",
      "\u001b[0;31mKeyError\u001b[0m                                  Traceback (most recent call last)",
      "Input \u001b[0;32mIn [3]\u001b[0m, in \u001b[0;36m<cell line: 1>\u001b[0;34m()\u001b[0m\n\u001b[0;32m----> 1\u001b[0m \u001b[43mos\u001b[49m\u001b[38;5;241;43m.\u001b[39;49m\u001b[43menviron\u001b[49m\u001b[43m[\u001b[49m\u001b[38;5;124;43m'\u001b[39;49m\u001b[38;5;124;43mREDHARE_MODEL_PATH\u001b[39;49m\u001b[38;5;124;43m'\u001b[39;49m\u001b[43m]\u001b[49m\n",
      "File \u001b[0;32m/opt/conda/envs/Python-3.10-Premium/lib/python3.10/os.py:679\u001b[0m, in \u001b[0;36m_Environ.__getitem__\u001b[0;34m(self, key)\u001b[0m\n\u001b[1;32m    676\u001b[0m     value \u001b[38;5;241m=\u001b[39m \u001b[38;5;28mself\u001b[39m\u001b[38;5;241m.\u001b[39m_data[\u001b[38;5;28mself\u001b[39m\u001b[38;5;241m.\u001b[39mencodekey(key)]\n\u001b[1;32m    677\u001b[0m \u001b[38;5;28;01mexcept\u001b[39;00m \u001b[38;5;167;01mKeyError\u001b[39;00m:\n\u001b[1;32m    678\u001b[0m     \u001b[38;5;66;03m# raise KeyError with the original key value\u001b[39;00m\n\u001b[0;32m--> 679\u001b[0m     \u001b[38;5;28;01mraise\u001b[39;00m \u001b[38;5;167;01mKeyError\u001b[39;00m(key) \u001b[38;5;28;01mfrom\u001b[39;00m \u001b[38;5;28mNone\u001b[39m\n\u001b[1;32m    680\u001b[0m \u001b[38;5;28;01mreturn\u001b[39;00m \u001b[38;5;28mself\u001b[39m\u001b[38;5;241m.\u001b[39mdecodevalue(value)\n",
      "\u001b[0;31mKeyError\u001b[0m: 'REDHARE_MODEL_PATH'"
     ]
    }
   ],
   "source": [
    "os.environ['REDHARE_MODEL_PATH']"
   ]
  },
  {
   "cell_type": "code",
   "execution_count": 4,
   "id": "quick-racing",
   "metadata": {
    "id": "78f59c90-0bf0-4941-aef4-fabc7c471ed3",
    "tags": []
   },
   "outputs": [
    {
     "name": "stdout",
     "output_type": "stream",
     "text": [
      "env: DIR_submission=/userfs/deployment-tutorial/deployment_submission\n",
      "env: file_kernel=kernel.py\n"
     ]
    }
   ],
   "source": [
    "%env DIR_submission=/userfs/deployment-tutorial/deployment_submission\n",
    "%env file_kernel=kernel.py\n",
    "\n",
    "!rm -rf $DIR_submission\n",
    "!mkdir -p $DIR_submission\n",
    "\n",
    "!cp /userfs/training-tutorial/cifar-visdom/model/model.pt $DIR_submission\n",
    "!cp $DIR/kernel.py $DIR_submission\n",
    "!cp $DIR/model.json $DIR_submission\n",
    "!cp $DIR/README.md $DIR_submission"
   ]
  },
  {
   "cell_type": "code",
   "execution_count": 5,
   "id": "conditional-implementation",
   "metadata": {
    "id": "8850bfe1-e8ee-4eb1-bc6b-986aaf9d6499",
    "tags": []
   },
   "outputs": [
    {
     "name": "stdout",
     "output_type": "stream",
     "text": [
      "Uploading...\n",
      "</userfs/deployment-tutorial/deployment_submission/README.md> uploaded to server.\n",
      "</userfs/deployment-tutorial/deployment_submission/kernel.py> uploaded to server.\n",
      "</userfs/deployment-tutorial/deployment_submission/model.json> uploaded to server.\n",
      "</userfs/deployment-tutorial/deployment_submission/model.pt> uploaded to server.\n",
      "Registering...\n",
      "Model <cifar-model-wendy-demo> is deployed successfully\n"
     ]
    }
   ],
   "source": [
    "!$dlim model deploy -p $DIR_submission $auth -f"
   ]
  },
  {
   "cell_type": "markdown",
   "id": "furnished-raising",
   "metadata": {
    "id": "6b274042-6670-4172-ad6d-623a6abb363a"
   },
   "source": [
    "A newly created deployment is not in \"active\" status."
   ]
  },
  {
   "cell_type": "code",
   "execution_count": 6,
   "id": "placed-employment",
   "metadata": {
    "id": "2bb05d64-3be7-46a3-96e0-8a19db15232b",
    "tags": []
   },
   "outputs": [
    {
     "name": "stdout",
     "output_type": "stream",
     "text": [
      "NAME                      REST URI\n",
      "alpaca-65b                https://wmla-inference-cpd.apps.cpd.mskcc.org/dlim/v1/inference/alpaca-65b\n",
      "alpaca-7b                 https://wmla-inference-cpd.apps.cpd.mskcc.org/dlim/v1/inference/alpaca-7b\n",
      "cifar-model-wendy         -\n",
      "cifar-model-wendy-demo    -\n",
      "deepliif-deployment       -\n",
      "deepliif-deployment-five  -\n",
      "deepliif-deployment-four  -\n",
      "hat-nn-level0-v1          -\n",
      "hat-nn-level05-v1         -\n",
      "hat-nn-level1-v1          -\n",
      "msk-benefits-qa           -\n",
      "msk-benefits-qa-test      -\n",
      "nlp-curation              https://wmla-inference-cpd.apps.cpd.mskcc.org/dlim/v1/inference/nlp-curation\n",
      "redcap-nlp                -\n",
      "sample-test-02            -\n",
      "test1                     -\n",
      "toy-app-petrides          https://wmla-inference-cpd.apps.cpd.mskcc.org/dlim/v1/inference/toy-app-petrides\n",
      "toymodel                  -\n",
      "w2-extract-qa-v2          -\n",
      "w2-extract-qa-v3          -\n"
     ]
    }
   ],
   "source": [
    "!$dlim model list $auth"
   ]
  },
  {
   "cell_type": "code",
   "execution_count": 7,
   "id": "orange-usage",
   "metadata": {
    "id": "0966bcd5-0703-44b8-9d5f-d0a241cb3184",
    "tags": []
   },
   "outputs": [
    {
     "name": "stdout",
     "output_type": "stream",
     "text": [
      "env: model_name=cifar-model-wendy-demo\n"
     ]
    }
   ],
   "source": [
    "%env model_name=cifar-model-wendy-demo"
   ]
  },
  {
   "cell_type": "markdown",
   "id": "nervous-johnston",
   "metadata": {
    "id": "b5f1ab14-a4a6-4d9a-97c6-c9a5faf401dc",
    "tags": []
   },
   "source": [
    "## 2. Modify Configurations\n",
    "\n",
    "Some configurations can **only** be specified or modified after the deployment gets created. \n",
    "\n",
    "These configurations are flexible and changeable to an existing deployment, meaning that you can stop a deployment, change such config, activate the deployment again, and this new setting will be effective immediately, without the need to do a re-deployment all over again.\n",
    "\n",
    "One example is resource usage.\n",
    "\n",
    "A full list of configurable parameters in this category can be found in this doc page: https://www.ibm.com/docs/en/wmla/2.3?topic=inference-edit-service"
   ]
  },
  {
   "cell_type": "code",
   "execution_count": 8,
   "id": "remarkable-accuracy",
   "metadata": {
    "id": "f8160450-e814-41b9-b11b-7bde2f197ac3",
    "tags": []
   },
   "outputs": [],
   "source": [
    "!$dlim model viewprofile $model_name -j $auth > model_profile.json"
   ]
  },
  {
   "cell_type": "code",
   "execution_count": 9,
   "id": "weird-split",
   "metadata": {
    "id": "7f4eb1ae-771e-4d2e-9753-fc6be2141205",
    "tags": []
   },
   "outputs": [
    {
     "data": {
      "text/plain": [
       "{'schema_version': '1.2',\n",
       " 'type': 'inference',\n",
       " 'name': 'cifar-model-wendy-demo',\n",
       " 'create_time': 'Wed Sep  6 19:59:14 2023 GMT',\n",
       " 'last_update_time': 'Wed Sep  6 19:59:14 2023 GMT',\n",
       " 'replica': 1,\n",
       " 'policy': {'name': 'capacity',\n",
       "  'schedule_interval': 3,\n",
       "  'kernel_min': 1,\n",
       "  'kernel_max': 100,\n",
       "  'kernel_delay_release_time': 60,\n",
       "  'task_execution_timeout': 60,\n",
       "  'task_batch_size': 1,\n",
       "  'task_pipe_size': 1,\n",
       "  'task_parallel_size': 1,\n",
       "  'stream_number_per_group': 0,\n",
       "  'stream_discard_slow_tasks': True},\n",
       " 'security': {'ssl': {'enable': True,\n",
       "   'server_crt': '${REDHARE_TOP}/security/tls.crt',\n",
       "   'server_key': '${REDHARE_TOP}/security/tls.key'}},\n",
       " 'resource_allocation': {'service': {'type': 'k8s',\n",
       "   'namespace': '',\n",
       "   'image_name': '',\n",
       "   'node_selector': ''},\n",
       "  'kernel': {'type': 'msd',\n",
       "   'namespace': '',\n",
       "   'image_name': '',\n",
       "   'resource_plan': 'sample-project/inference',\n",
       "   'resources': 'ncpus=0.5,ncpus_limit=2,mem=1024,mem_limit=4096',\n",
       "   'accelerator_resources': '',\n",
       "   'gpu_pack_id': '',\n",
       "   'node_selector': '',\n",
       "   'scheduler': ''}},\n",
       " 'kernel': {'working_directory': '${REDHARE_TOP}/work',\n",
       "  'connection_timeout': 90,\n",
       "  'log_directory': '${REDHARE_TOP}/logs',\n",
       "  'run_as': '',\n",
       "  'umask': '022',\n",
       "  'gpu': 'no',\n",
       "  'envs': [{'name': 'DLIM_MK_LOG_LEVEL', 'value': 'INFO'}]}}"
      ]
     },
     "execution_count": 9,
     "metadata": {},
     "output_type": "execute_result"
    }
   ],
   "source": [
    "import json\n",
    "\n",
    "profile = json.load(open('model_profile.json'))\n",
    "profile"
   ]
  },
  {
   "cell_type": "code",
   "execution_count": 10,
   "id": "particular-novel",
   "metadata": {
    "id": "26d483e1-c5c2-461b-bb3a-a0f9792069f5",
    "tags": []
   },
   "outputs": [],
   "source": [
    "profile['kernel']['gpu'] = 'exclusive'\n",
    "profile['policy']['kernel_max'] = 3\n",
    "# profile['kernel']['envs'] = [{'name': 'DLIM_MK_LOG_LEVEL', 'value': 'DEBUG'}] # switch to DEBUG to view debug level logs"
   ]
  },
  {
   "cell_type": "code",
   "execution_count": 11,
   "id": "another-poultry",
   "metadata": {
    "id": "153d9125-a205-4853-a668-8523452f237d",
    "tags": []
   },
   "outputs": [],
   "source": [
    "with open('model_profile.json','w') as f:\n",
    "    json.dump(profile, f)"
   ]
  },
  {
   "cell_type": "code",
   "execution_count": 12,
   "id": "chronic-frost",
   "metadata": {
    "id": "93a4c585-c674-4898-ab12-4187bfdc39df",
    "tags": []
   },
   "outputs": [
    {
     "name": "stdout",
     "output_type": "stream",
     "text": [
      "Model is updated successfully\n"
     ]
    }
   ],
   "source": [
    "!$dlim model updateprofile $model_name -f model_profile.json $auth"
   ]
  },
  {
   "cell_type": "markdown",
   "id": "wound-chapel",
   "metadata": {
    "id": "d653f9f8-fdf6-40e4-b76c-0148e7bfe070"
   },
   "source": [
    "## 3. Start Deployment"
   ]
  },
  {
   "cell_type": "code",
   "execution_count": 13,
   "id": "julian-laser",
   "metadata": {
    "id": "382340fa-7a0a-4356-addd-a49d6ba4ed8f",
    "tags": []
   },
   "outputs": [
    {
     "name": "stdout",
     "output_type": "stream",
     "text": [
      "Starting model \"cifar-model-wendy-demo\", run \"dlim model view cifar-model-wendy-demo -s\" to ensure startup.\n"
     ]
    }
   ],
   "source": [
    "!$dlim model start $model_name $auth "
   ]
  },
  {
   "cell_type": "code",
   "execution_count": 14,
   "id": "ff546dfa-e528-49f8-9587-0dfcad5e9dec",
   "metadata": {
    "id": "ff546dfa-e528-49f8-9587-0dfcad5e9dec",
    "tags": []
   },
   "outputs": [
    {
     "name": "stdout",
     "output_type": "stream",
     "text": [
      "2023/09/06 19:59:47 Cluster URL is not set. Contact EDI cluster administrator to get it and set it as following example:\n",
      "  \"dlim config -c https://localhost:9000/dlim/v1/\"\n",
      "Or use \"--rest-server https://localhost:9000/dlim/v1/\" option.\n"
     ]
    }
   ],
   "source": [
    "!$dlim model view cifar-model-wendy -s"
   ]
  },
  {
   "cell_type": "code",
   "execution_count": 15,
   "id": "waiting-provincial",
   "metadata": {
    "id": "9feaa2f2-059e-4751-a161-3893442e1984",
    "tags": []
   },
   "outputs": [
    {
     "name": "stdout",
     "output_type": "stream",
     "text": [
      "Name:\t\tcifar-model-wendy-demo\n",
      "Tag:\t\t-\n",
      "Model path:\t/opt/wml-edi/repo/cifar-model-wendy-demo/cifar-model-wendy-demo-20230906-195914\n",
      "Size:\t\t248.39KB\n",
      "Weight path:\t./\n",
      "Runtime:\tdlipy3\n",
      "Kernel path:\tkernel.py\n",
      "Creator:\tkharlad\n",
      "Create time:\tWed Sep  6 19:59:14 UTC 2023\n",
      "Update time:\tWed Sep  6 19:59:14 UTC 2023\n",
      "REST URI:\thttps://wmla-inference-cpd.apps.cpd.mskcc.org/dlim/v1/inference/cifar-model-wendy-demo\n",
      "Attributes:\tNo attribute defined\n",
      "Environments:\tNo environment variable defined\n",
      "Schema version:\t1\n"
     ]
    }
   ],
   "source": [
    "!$dlim model view $model_name $auth"
   ]
  },
  {
   "cell_type": "code",
   "execution_count": 16,
   "id": "brazilian-bangkok",
   "metadata": {
    "id": "b9511fb6-100d-492f-84da-a77583cbc227",
    "tags": []
   },
   "outputs": [
    {
     "name": "stdout",
     "output_type": "stream",
     "text": [
      "Name:             cifar-model-wendy-demo\n",
      "State:            Started\n",
      "Serving replica:  1\n",
      "============================================================\n",
      "Serving service ID:   babc0502-541d-4a4e-93d0-a819ee361aa0\n",
      "Service JobID:        edi-cifar-model-wendy-demo-bf9b4cbdc-vxftw\n",
      "GPU Mode:             exclusive\n",
      "Served clients:       0\n",
      "Pending requests:     0\n",
      "Requests per second:  0.00\n",
      "Data per second:      0.00\n",
      "Kernel started:       0\n"
     ]
    }
   ],
   "source": [
    "!$dlim model view $model_name -s $auth"
   ]
  },
  {
   "cell_type": "markdown",
   "id": "multiple-meeting",
   "metadata": {
    "id": "f3c60211-0154-4857-85eb-5d546b4b4f3a"
   },
   "source": [
    "### Test Deployment"
   ]
  },
  {
   "cell_type": "code",
   "execution_count": 17,
   "id": "boolean-ceremony",
   "metadata": {
    "id": "09190815-df34-4eb9-8a71-9834095f7f3f",
    "tags": []
   },
   "outputs": [],
   "source": [
    "from PIL import Image\n",
    "from io import BytesIO\n",
    "import base64\n",
    "\n",
    "img = Image.open('camion_s_000148.png')\n",
    "\n",
    "buffer = BytesIO()\n",
    "img.save(buffer, 'PNG')\n",
    "\n",
    "img_bytes = base64.b64encode(buffer.getvalue()).decode('utf-8')"
   ]
  },
  {
   "cell_type": "code",
   "execution_count": 18,
   "id": "compliant-scholarship",
   "metadata": {
    "id": "8f39e0eb-ba9c-4786-b653-8d32efc85ad0",
    "tags": []
   },
   "outputs": [
    {
     "data": {
      "text/plain": [
       "'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'"
      ]
     },
     "execution_count": 18,
     "metadata": {},
     "output_type": "execute_result"
    }
   ],
   "source": [
    "img_bytes"
   ]
  },
  {
   "cell_type": "code",
   "execution_count": 19,
   "id": "transparent-timeline",
   "metadata": {
    "id": "df93d901-31ce-44bc-8327-f3f98af567d6",
    "tags": []
   },
   "outputs": [],
   "source": [
    "import urllib3\n",
    "urllib3.disable_warnings()"
   ]
  },
  {
   "cell_type": "markdown",
   "id": "impossible-trance",
   "metadata": {
    "id": "3f7e8ede-baad-4d36-860b-da177e4f3a0a"
   },
   "source": [
    "#### Test: A Single Request"
   ]
  },
  {
   "cell_type": "code",
   "execution_count": 22,
   "id": "cloudy-arctic",
   "metadata": {
    "id": "60101dfc-29ed-4273-8a0c-6432117cbbe2",
    "tags": []
   },
   "outputs": [
    {
     "name": "stdout",
     "output_type": "stream",
     "text": [
      "CPU times: user 21.1 ms, sys: 1.39 ms, total: 22.5 ms\n",
      "Wall time: 46.5 ms\n"
     ]
    },
    {
     "data": {
      "text/plain": [
       "<Response [503]>"
      ]
     },
     "execution_count": 22,
     "metadata": {},
     "output_type": "execute_result"
    }
   ],
   "source": [
    "%%time\n",
    "import requests\n",
    "\n",
    "url = 'https://wmla-inference-cpd.apps.cpd.mskcc.org/dlim/v1/inference/cifar-model-wendy-demo'\n",
    "headers = {'Authorization': 'Bearer ' + os.environ['USER_ACCESS_TOKEN']}\n",
    "\n",
    "res = requests.post(url=url, headers=headers, json={'img':img_bytes}, verify=False)\n",
    "res"
   ]
  },
  {
   "cell_type": "code",
   "execution_count": 23,
   "id": "spoken-embassy",
   "metadata": {
    "id": "c7562145-11f5-4f35-a799-ae5d109348d2",
    "tags": []
   },
   "outputs": [
    {
     "data": {
      "text/plain": [
       "'Inference service for model <cifar-model-wendy-demo> is currently unavailable.'"
      ]
     },
     "execution_count": 23,
     "metadata": {},
     "output_type": "execute_result"
    }
   ],
   "source": [
    "res.text"
   ]
  },
  {
   "cell_type": "code",
   "execution_count": 92,
   "id": "delayed-queue",
   "metadata": {
    "id": "db14cb24-282f-47e2-9f2e-96686d6e2379",
    "tags": []
   },
   "outputs": [
    {
     "data": {
      "text/plain": [
       "<Response [200]>"
      ]
     },
     "execution_count": 92,
     "metadata": {},
     "output_type": "execute_result"
    }
   ],
   "source": [
    "res = requests.post(url=url, headers=headers, json={'img':''}, verify=False)\n",
    "res"
   ]
  },
  {
   "cell_type": "code",
   "execution_count": 93,
   "id": "better-obligation",
   "metadata": {
    "id": "2ef7ddd1-44bb-4828-b4ca-15b3669f8c59",
    "tags": []
   },
   "outputs": [
    {
     "data": {
      "text/plain": [
       "'{\"msg\": \"cannot identify image file <_io.BytesIO object at 0x7fd14f8b6520>\"}'"
      ]
     },
     "execution_count": 93,
     "metadata": {},
     "output_type": "execute_result"
    }
   ],
   "source": [
    "res.text"
   ]
  },
  {
   "cell_type": "markdown",
   "id": "designed-mortgage",
   "metadata": {
    "id": "08586fcc-5675-467a-993f-62e0aee0237c"
   },
   "source": [
    "#### Test: Multiple Concurrent Requests\n",
    "You can use `requests-futures` to initiate async calls to mimic concurrent requests. At the backend it uses multi-threading. More details can be found in the git repository: https://github.com/ross/requests-futures\n",
    "\n",
    "In this way, you will be able to trigger WMLA EDI deployment to generate new kernel pods in order to handle these requests and measure/evaluate the performance.\n",
    "\n",
    "*If your inference request takes very short time, say 20ms, then the timing estimated by this method could be way off due to additional costs such as opening threads.*\n",
    "\n",
    "*This is more for the mlops team to do. A researcher doesn't have to worry about concurrent requests.*"
   ]
  },
  {
   "cell_type": "code",
   "execution_count": 26,
   "id": "russian-mixer",
   "metadata": {
    "id": "e41b1211-7800-4786-bbf8-97517a0bfa13",
    "tags": []
   },
   "outputs": [
    {
     "name": "stdout",
     "output_type": "stream",
     "text": [
      "Requirement already satisfied: requests-futures in /opt/conda/envs/Python-3.8-main/lib/python3.8/site-packages (1.0.0)\n",
      "Requirement already satisfied: requests>=1.2.0 in /opt/conda/envs/Python-3.8-main/lib/python3.8/site-packages (from requests-futures) (2.25.1)\n",
      "Requirement already satisfied: certifi>=2017.4.17 in /opt/conda/envs/Python-3.8-main/lib/python3.8/site-packages (from requests>=1.2.0->requests-futures) (2021.10.8)\n",
      "Requirement already satisfied: urllib3<1.27,>=1.21.1 in /opt/conda/envs/Python-3.8-main/lib/python3.8/site-packages (from requests>=1.2.0->requests-futures) (1.26.6)\n",
      "Requirement already satisfied: chardet<5,>=3.0.2 in /opt/conda/envs/Python-3.8-main/lib/python3.8/site-packages (from requests>=1.2.0->requests-futures) (3.0.4)\n",
      "Requirement already satisfied: idna<3,>=2.5 in /opt/conda/envs/Python-3.8-main/lib/python3.8/site-packages (from requests>=1.2.0->requests-futures) (2.8)\n"
     ]
    }
   ],
   "source": [
    "!pip install requests-futures"
   ]
  },
  {
   "cell_type": "code",
   "execution_count": 27,
   "id": "egyptian-telling",
   "metadata": {
    "id": "83ec1cde-191d-4e1b-8a83-eccb905167c0",
    "tags": []
   },
   "outputs": [],
   "source": [
    "import datetime"
   ]
  },
  {
   "cell_type": "code",
   "execution_count": 28,
   "id": "bibliographic-asian",
   "metadata": {
    "id": "64a63aa4-7ebb-4f8f-bd06-2f58761ba260",
    "tags": []
   },
   "outputs": [
    {
     "name": "stdout",
     "output_type": "stream",
     "text": [
      "2022-05-11 03:14:30.546037 0\n",
      "2022-05-11 03:14:30.548319 1\n",
      "2022-05-11 03:14:30.551203 2\n",
      "2022-05-11 03:14:30.559417 3\n",
      "2022-05-11 03:14:30.564920 4\n",
      "2022-05-11 03:14:30.573180 5\n",
      "2022-05-11 03:14:30.582728 6\n",
      "2022-05-11 03:14:30.584893 7\n",
      "2022-05-11 03:14:30.585241 8\n",
      "2022-05-11 03:14:30.585745 9\n",
      "2022-05-11 03:14:30.585796 10\n",
      "2022-05-11 03:14:30.586030 11\n",
      "2022-05-11 03:14:30.586055 12\n",
      "2022-05-11 03:14:30.586079 13\n",
      "2022-05-11 03:14:30.586106 14\n",
      "2022-05-11 03:14:30.586135 15\n",
      "2022-05-11 03:14:30.586172 16\n",
      "2022-05-11 03:14:30.586585 17\n",
      "2022-05-11 03:14:30.586804 18\n",
      "2022-05-11 03:14:30.589804 19\n",
      "2022-05-11 03:14:30.589961 20\n",
      "2022-05-11 03:14:30.592041 21\n",
      "2022-05-11 03:14:30.592341 22\n",
      "2022-05-11 03:14:30.592774 23\n",
      "2022-05-11 03:14:30.592830 24\n",
      "2022-05-11 03:14:30.593263 25\n",
      "2022-05-11 03:14:30.593294 26\n",
      "2022-05-11 03:14:30.593320 27\n",
      "2022-05-11 03:14:30.593344 28\n",
      "2022-05-11 03:14:30.593375 29\n",
      "2022-05-11 03:14:30.593397 30\n",
      "2022-05-11 03:14:30.593836 31\n",
      "2022-05-11 03:14:30.593875 32\n",
      "2022-05-11 03:14:30.594067 33\n",
      "2022-05-11 03:14:30.594099 34\n",
      "2022-05-11 03:14:30.594348 35\n",
      "2022-05-11 03:14:30.594540 36\n",
      "2022-05-11 03:14:30.594573 37\n",
      "2022-05-11 03:14:30.594863 38\n",
      "2022-05-11 03:14:30.600336 39\n",
      "2022-05-11 03:14:30.600731 40\n",
      "2022-05-11 03:14:30.600876 41\n",
      "2022-05-11 03:14:30.619268 42\n",
      "2022-05-11 03:14:30.621007 43\n",
      "2022-05-11 03:14:30.621213 44\n",
      "2022-05-11 03:14:30.621254 45\n",
      "2022-05-11 03:14:30.621839 46\n",
      "2022-05-11 03:14:30.621895 47\n",
      "2022-05-11 03:14:30.622900 48\n",
      "2022-05-11 03:14:30.623866 49\n",
      "2022-05-11 03:14:30.623922 50\n",
      "2022-05-11 03:14:30.627112 51\n",
      "2022-05-11 03:14:30.627186 52\n",
      "2022-05-11 03:14:30.627220 53\n",
      "2022-05-11 03:14:30.627258 54\n",
      "2022-05-11 03:14:30.627307 55\n",
      "2022-05-11 03:14:30.627534 56\n",
      "2022-05-11 03:14:30.627703 57\n",
      "2022-05-11 03:14:30.627799 58\n",
      "2022-05-11 03:14:30.628441 59\n",
      "2022-05-11 03:14:30.628581 60\n",
      "2022-05-11 03:14:30.628693 61\n",
      "2022-05-11 03:14:30.628807 62\n",
      "2022-05-11 03:14:30.628923 63\n",
      "2022-05-11 03:14:30.629036 64\n",
      "2022-05-11 03:14:30.629167 65\n",
      "2022-05-11 03:14:30.629201 66\n",
      "2022-05-11 03:14:30.629232 67\n",
      "2022-05-11 03:14:30.629464 68\n",
      "2022-05-11 03:14:30.629574 69\n",
      "2022-05-11 03:14:30.629667 70\n",
      "2022-05-11 03:14:30.629846 71\n",
      "2022-05-11 03:14:30.629881 72\n",
      "2022-05-11 03:14:30.629906 73\n",
      "2022-05-11 03:14:30.629932 74\n",
      "2022-05-11 03:14:30.630245 75\n",
      "2022-05-11 03:14:30.630273 76\n",
      "2022-05-11 03:14:30.630462 77\n",
      "2022-05-11 03:14:30.630577 78\n",
      "2022-05-11 03:14:30.630686 79\n",
      "2022-05-11 03:14:30.630718 80\n",
      "2022-05-11 03:14:30.630743 81\n",
      "2022-05-11 03:14:30.630967 82\n",
      "2022-05-11 03:14:30.630993 83\n",
      "2022-05-11 03:14:30.631021 84\n",
      "2022-05-11 03:14:30.631053 85\n",
      "2022-05-11 03:14:30.631078 86\n",
      "2022-05-11 03:14:30.631105 87\n",
      "2022-05-11 03:14:30.631132 88\n",
      "2022-05-11 03:14:30.631156 89\n",
      "2022-05-11 03:14:30.631176 90\n",
      "2022-05-11 03:14:30.631199 91\n",
      "2022-05-11 03:14:30.631220 92\n",
      "2022-05-11 03:14:30.631241 93\n",
      "2022-05-11 03:14:30.631263 94\n",
      "2022-05-11 03:14:30.631282 95\n",
      "2022-05-11 03:14:30.631309 96\n",
      "2022-05-11 03:14:30.631397 97\n",
      "2022-05-11 03:14:30.632391 98\n",
      "2022-05-11 03:14:30.632427 99\n",
      "CPU times: user 111 ms, sys: 32.2 ms, total: 143 ms\n",
      "Wall time: 92.2 ms\n"
     ]
    }
   ],
   "source": [
    "%%time\n",
    "from requests_futures.sessions import FuturesSession\n",
    "\n",
    "session = FuturesSession()\n",
    "params = {'url':'https://wmla-inference-cpd-wmla.apps.cpd.mskcc.org/dlim/v1/inference/cifar-model-wendy',\n",
    "          'headers':headers, \n",
    "          'json':{'img':img_bytes},\n",
    "          'verify':False}\n",
    "\n",
    "l_sessions = []\n",
    "for i in range(100):\n",
    "    future_session = session.post(**params)\n",
    "    l_sessions.append(future_session)\n",
    "    print(datetime.datetime.now(),i)"
   ]
  },
  {
   "cell_type": "code",
   "execution_count": 29,
   "id": "double-headquarters",
   "metadata": {
    "id": "517d3018-1351-4951-bb57-089ae87ad55f",
    "tags": []
   },
   "outputs": [
    {
     "name": "stdout",
     "output_type": "stream",
     "text": [
      "2022-05-11 03:14:31.584639 0\n",
      "2022-05-11 03:14:31.584691 1\n",
      "2022-05-11 03:14:32.936480 2\n",
      "2022-05-11 03:14:32.936568 3\n",
      "2022-05-11 03:14:33.235104 4\n",
      "2022-05-11 03:14:33.235211 5\n",
      "2022-05-11 03:14:33.235229 6\n",
      "2022-05-11 03:14:33.235244 7\n",
      "2022-05-11 03:14:33.235260 8\n",
      "2022-05-11 03:14:33.235284 9\n",
      "2022-05-11 03:14:34.731991 10\n",
      "2022-05-11 03:14:34.732079 11\n",
      "2022-05-11 03:14:34.732096 12\n",
      "2022-05-11 03:14:34.732112 13\n",
      "2022-05-11 03:14:34.833380 14\n",
      "2022-05-11 03:14:34.833470 15\n",
      "2022-05-11 03:14:34.833488 16\n",
      "2022-05-11 03:14:34.833504 17\n",
      "2022-05-11 03:14:37.130729 18\n",
      "2022-05-11 03:14:37.130838 19\n",
      "2022-05-11 03:14:37.130865 20\n",
      "2022-05-11 03:14:37.130880 21\n",
      "2022-05-11 03:14:38.140140 22\n",
      "2022-05-11 03:14:38.140251 23\n",
      "2022-05-11 03:14:38.140269 24\n",
      "2022-05-11 03:14:38.140284 25\n",
      "2022-05-11 03:14:38.833944 26\n",
      "2022-05-11 03:14:38.834080 27\n",
      "2022-05-11 03:14:38.834133 28\n",
      "2022-05-11 03:14:38.834173 29\n",
      "2022-05-11 03:14:41.035306 30\n",
      "2022-05-11 03:14:41.035418 31\n",
      "2022-05-11 03:14:41.035434 32\n",
      "2022-05-11 03:14:41.035456 33\n",
      "2022-05-11 03:14:41.235655 34\n",
      "2022-05-11 03:14:41.235762 35\n",
      "2022-05-11 03:14:41.235788 36\n",
      "2022-05-11 03:14:41.235819 37\n",
      "2022-05-11 03:14:43.142315 38\n",
      "2022-05-11 03:14:43.142818 39\n",
      "2022-05-11 03:14:43.142843 40\n",
      "2022-05-11 03:14:43.142858 41\n",
      "2022-05-11 03:14:43.538938 42\n",
      "2022-05-11 03:14:43.539038 43\n",
      "2022-05-11 03:14:43.539056 44\n",
      "2022-05-11 03:14:43.539072 45\n",
      "2022-05-11 03:14:45.259537 46\n",
      "2022-05-11 03:14:45.259643 47\n",
      "2022-05-11 03:14:45.259668 48\n",
      "2022-05-11 03:14:45.259685 49\n",
      "2022-05-11 03:14:46.231909 50\n",
      "2022-05-11 03:14:46.232021 51\n",
      "2022-05-11 03:14:46.232038 52\n",
      "2022-05-11 03:14:46.232053 53\n",
      "2022-05-11 03:14:46.460328 54\n",
      "2022-05-11 03:14:46.460420 55\n",
      "2022-05-11 03:14:46.460437 56\n",
      "2022-05-11 03:14:46.460452 57\n",
      "2022-05-11 03:14:46.659334 58\n",
      "2022-05-11 03:14:46.661979 59\n",
      "2022-05-11 03:14:46.662004 60\n",
      "2022-05-11 03:14:46.662020 61\n",
      "2022-05-11 03:14:46.859956 62\n",
      "2022-05-11 03:14:46.860244 63\n",
      "2022-05-11 03:14:46.860382 64\n",
      "2022-05-11 03:14:46.860507 65\n",
      "2022-05-11 03:14:47.333109 66\n",
      "2022-05-11 03:14:47.333652 67\n",
      "2022-05-11 03:14:47.334260 68\n",
      "2022-05-11 03:14:47.334286 69\n",
      "2022-05-11 03:14:47.530620 70\n",
      "2022-05-11 03:14:47.530717 71\n",
      "2022-05-11 03:14:47.530736 72\n",
      "2022-05-11 03:14:47.530758 73\n",
      "2022-05-11 03:14:47.833325 74\n",
      "2022-05-11 03:14:47.833433 75\n",
      "2022-05-11 03:14:47.833451 76\n",
      "2022-05-11 03:14:47.833467 77\n",
      "2022-05-11 03:14:48.331715 78\n",
      "2022-05-11 03:14:48.331841 79\n",
      "2022-05-11 03:14:48.331870 80\n",
      "2022-05-11 03:14:48.331895 81\n",
      "2022-05-11 03:14:48.631100 82\n",
      "2022-05-11 03:14:48.631215 83\n",
      "2022-05-11 03:14:48.631232 84\n",
      "2022-05-11 03:14:48.631247 85\n",
      "2022-05-11 03:14:49.132173 86\n",
      "2022-05-11 03:14:49.132275 87\n",
      "2022-05-11 03:14:49.132293 88\n",
      "2022-05-11 03:14:49.132308 89\n",
      "2022-05-11 03:14:49.446735 90\n",
      "2022-05-11 03:14:49.446835 91\n",
      "2022-05-11 03:14:49.446855 92\n",
      "2022-05-11 03:14:49.446877 93\n",
      "2022-05-11 03:14:49.567183 94\n",
      "2022-05-11 03:14:49.567293 95\n",
      "2022-05-11 03:14:49.739507 96\n",
      "2022-05-11 03:14:49.739607 97\n",
      "2022-05-11 03:14:49.865509 98\n",
      "2022-05-11 03:14:49.865788 99\n",
      "CPU times: user 183 ms, sys: 11.2 ms, total: 194 ms\n",
      "Wall time: 18.3 s\n"
     ]
    }
   ],
   "source": [
    "%%time\n",
    "l_res = []\n",
    "for i in range(100):\n",
    "    l_res.append(l_sessions[i].result())\n",
    "    print(datetime.datetime.now(),i)"
   ]
  },
  {
   "cell_type": "code",
   "execution_count": 30,
   "id": "duplicate-while",
   "metadata": {
    "id": "c1e9ae68-fef6-4581-8f16-2f875e0324fc",
    "tags": []
   },
   "outputs": [
    {
     "name": "stdout",
     "output_type": "stream",
     "text": [
      "{\"pred_class\": 0}\n",
      "{\"pred_class\": 0}\n",
      "{\"pred_class\": 0}\n",
      "{\"pred_class\": 0}\n",
      "{\"pred_class\": 0}\n",
      "{\"pred_class\": 0}\n",
      "{\"pred_class\": 0}\n",
      "{\"pred_class\": 0}\n",
      "{\"pred_class\": 0}\n",
      "{\"pred_class\": 0}\n",
      "{\"pred_class\": 0}\n",
      "{\"pred_class\": 0}\n",
      "{\"pred_class\": 0}\n",
      "{\"pred_class\": 0}\n",
      "{\"pred_class\": 0}\n",
      "{\"pred_class\": 0}\n",
      "{\"pred_class\": 0}\n",
      "{\"pred_class\": 0}\n",
      "{\"pred_class\": 0}\n",
      "{\"pred_class\": 0}\n",
      "{\"pred_class\": 0}\n",
      "{\"pred_class\": 0}\n",
      "{\"pred_class\": 0}\n",
      "{\"pred_class\": 0}\n",
      "{\"pred_class\": 0}\n",
      "{\"pred_class\": 0}\n",
      "{\"pred_class\": 0}\n",
      "{\"pred_class\": 0}\n",
      "{\"pred_class\": 0}\n",
      "{\"pred_class\": 0}\n",
      "{\"pred_class\": 0}\n",
      "{\"pred_class\": 0}\n",
      "{\"pred_class\": 0}\n",
      "{\"pred_class\": 0}\n",
      "{\"pred_class\": 0}\n",
      "{\"pred_class\": 0}\n",
      "{\"pred_class\": 0}\n",
      "{\"pred_class\": 0}\n",
      "{\"pred_class\": 0}\n",
      "{\"pred_class\": 0}\n",
      "{\"pred_class\": 0}\n",
      "{\"pred_class\": 0}\n",
      "{\"pred_class\": 0}\n",
      "{\"pred_class\": 0}\n",
      "{\"pred_class\": 0}\n",
      "{\"pred_class\": 0}\n",
      "{\"pred_class\": 0}\n",
      "{\"pred_class\": 0}\n",
      "{\"pred_class\": 0}\n",
      "{\"pred_class\": 0}\n",
      "{\"pred_class\": 0}\n",
      "{\"pred_class\": 0}\n",
      "{\"pred_class\": 0}\n",
      "{\"pred_class\": 0}\n",
      "{\"pred_class\": 0}\n",
      "{\"pred_class\": 0}\n",
      "{\"pred_class\": 0}\n",
      "{\"pred_class\": 0}\n",
      "{\"pred_class\": 0}\n",
      "{\"pred_class\": 0}\n",
      "{\"pred_class\": 0}\n",
      "{\"pred_class\": 0}\n",
      "{\"pred_class\": 0}\n",
      "{\"pred_class\": 0}\n",
      "{\"pred_class\": 0}\n",
      "{\"pred_class\": 0}\n",
      "{\"pred_class\": 0}\n",
      "{\"pred_class\": 0}\n",
      "{\"pred_class\": 0}\n",
      "{\"pred_class\": 0}\n",
      "{\"pred_class\": 0}\n",
      "{\"pred_class\": 0}\n",
      "{\"pred_class\": 0}\n",
      "{\"pred_class\": 0}\n",
      "{\"pred_class\": 0}\n",
      "{\"pred_class\": 0}\n",
      "{\"pred_class\": 0}\n",
      "{\"pred_class\": 0}\n",
      "{\"pred_class\": 0}\n",
      "{\"pred_class\": 0}\n",
      "{\"pred_class\": 0}\n",
      "{\"pred_class\": 0}\n",
      "{\"pred_class\": 0}\n",
      "{\"pred_class\": 0}\n",
      "{\"pred_class\": 0}\n",
      "{\"pred_class\": 0}\n",
      "{\"pred_class\": 0}\n",
      "{\"pred_class\": 0}\n",
      "{\"pred_class\": 0}\n",
      "{\"pred_class\": 0}\n",
      "{\"pred_class\": 0}\n",
      "{\"pred_class\": 0}\n",
      "{\"pred_class\": 0}\n",
      "{\"pred_class\": 0}\n",
      "{\"pred_class\": 0}\n",
      "{\"pred_class\": 0}\n",
      "{\"pred_class\": 0}\n",
      "{\"pred_class\": 0}\n",
      "{\"pred_class\": 0}\n",
      "{\"pred_class\": 0}\n"
     ]
    }
   ],
   "source": [
    "for res in l_res:\n",
    "    print(res.text)"
   ]
  },
  {
   "cell_type": "markdown",
   "id": "third-address",
   "metadata": {
    "id": "95dd9fc8-8b33-485f-9687-951e5b817554",
    "tags": []
   },
   "source": [
    "## 4. Stop Deployment\n",
    "You need to stop a deployment when\n",
    "- you want to change configurable parameters for the existing deployment, or\n",
    "- you want to delete this deployment"
   ]
  },
  {
   "cell_type": "code",
   "execution_count": 24,
   "id": "steady-rally",
   "metadata": {
    "id": "7748dcb8-fb09-47bf-88ec-8eaaae635b25",
    "tags": []
   },
   "outputs": [
    {
     "name": "stdout",
     "output_type": "stream",
     "text": [
      "Stopping model \"cifar-model-wendy-demo\", run \"dlim model view cifar-model-wendy-demo -s\" to ensure stop.\n"
     ]
    }
   ],
   "source": [
    "!$dlim model stop $model_name $auth -f"
   ]
  },
  {
   "cell_type": "markdown",
   "id": "signed-rogers",
   "metadata": {
    "id": "088edd24-32f5-43be-b2d9-cd05eed5ef21",
    "tags": []
   },
   "source": [
    "## 5. Remove Deployment"
   ]
  },
  {
   "cell_type": "code",
   "execution_count": 25,
   "id": "fourth-external",
   "metadata": {
    "id": "bde9f625-4775-4c68-a6f4-56fcb903ffc3",
    "tags": []
   },
   "outputs": [
    {
     "name": "stdout",
     "output_type": "stream",
     "text": [
      "Undeployed model \"cifar-model-wendy-demo\", run \"dlim model list\" to ensure deletion.\n"
     ]
    }
   ],
   "source": [
    "!$dlim model undeploy $model_name $auth -f"
   ]
  },
  {
   "cell_type": "code",
   "execution_count": 26,
   "id": "pressing-society",
   "metadata": {
    "id": "dfea07f6-afe7-4c7e-8a4d-939dcdba6e3e",
    "tags": []
   },
   "outputs": [
    {
     "name": "stdout",
     "output_type": "stream",
     "text": [
      "NAME                      REST URI\n",
      "alpaca-65b                https://wmla-inference-cpd.apps.cpd.mskcc.org/dlim/v1/inference/alpaca-65b\n",
      "alpaca-7b                 https://wmla-inference-cpd.apps.cpd.mskcc.org/dlim/v1/inference/alpaca-7b\n",
      "cifar-model-wendy         -\n",
      "deepliif-deployment       -\n",
      "deepliif-deployment-five  -\n",
      "deepliif-deployment-four  -\n",
      "hat-nn-level0-v1          -\n",
      "hat-nn-level05-v1         -\n",
      "hat-nn-level1-v1          -\n",
      "msk-benefits-qa           -\n",
      "msk-benefits-qa-test      -\n",
      "nlp-curation              https://wmla-inference-cpd.apps.cpd.mskcc.org/dlim/v1/inference/nlp-curation\n",
      "redcap-nlp                -\n",
      "sample-test-02            -\n",
      "test1                     -\n",
      "toy-app-petrides          https://wmla-inference-cpd.apps.cpd.mskcc.org/dlim/v1/inference/toy-app-petrides\n",
      "toymodel                  -\n",
      "w2-extract-qa-v2          -\n",
      "w2-extract-qa-v3          -\n"
     ]
    }
   ],
   "source": [
    "!$dlim model list $auth"
   ]
  },
  {
   "cell_type": "code",
   "execution_count": null,
   "id": "sacred-briefs",
   "metadata": {
    "id": "f9c49ff6-d3a3-4d3a-bb00-d78b441e053c"
   },
   "outputs": [],
   "source": []
  }
 ],
 "metadata": {
  "kernelspec": {
   "display_name": "Python 3.10",
   "language": "python",
   "name": "python3"
  },
  "language_info": {
   "codemirror_mode": {
    "name": "ipython",
    "version": 3
   },
   "file_extension": ".py",
   "mimetype": "text/x-python",
   "name": "python",
   "nbconvert_exporter": "python",
   "pygments_lexer": "ipython3",
   "version": "3.10.6"
  }
 },
 "nbformat": 4,
 "nbformat_minor": 5
}
