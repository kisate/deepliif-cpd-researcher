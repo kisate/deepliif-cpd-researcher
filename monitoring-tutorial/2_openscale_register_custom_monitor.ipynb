{
 "cells": [
  {
   "cell_type": "markdown",
   "id": "cognitive-harrison",
   "metadata": {
    "id": "482cd097-e673-48fa-974b-a37911460a11"
   },
   "source": [
    "# Register Custom Monitor in OpenScale\n",
    "This notebook \n",
    "1. registers the custom metric provider as an integrated system in openscale\n",
    "2. creates the corresponding monitor definition\n",
    "3. updates monitor metadata"
   ]
  },
  {
   "cell_type": "code",
   "execution_count": 1,
   "id": "accurate-sender",
   "metadata": {
    "id": "c866205c-d01f-4cc3-b86a-5a187cc12066",
    "tags": []
   },
   "outputs": [],
   "source": [
    "from ibm_watson_openscale import *\n",
    "from ibm_watson_openscale.base_classes.watson_open_scale_v2 import *\n",
    "import urllib3\n",
    "urllib3.disable_warnings()\n",
    "\n",
    "from datetime import datetime, timezone, timedelta\n",
    "import uuid\n",
    "\n",
    "import os\n",
    "import wos_sdk_utils as wos_util"
   ]
  },
  {
   "cell_type": "code",
   "execution_count": 2,
   "id": "optical-lender",
   "metadata": {
    "id": "e8678a0a-c62f-4ab6-8188-dbc9a4ae3cf9",
    "tags": []
   },
   "outputs": [],
   "source": [
    "scoring_url = 'https://internal-nginx-svc:12443/ml/v4/deployments/af5ea879-60b8-4f9e-a276-893e1f986a34/predictions?version=2022-05-03'\n",
    "openscale_integrated_system_name = \"dummy metrics example dima\"\n",
    "openscale_monitor_name = 'dummy monitor example dima'\n",
    "\n",
    "credentials = {'username': 'kharlad',\n",
    "               'api_key': os.environ['USER_ACCESS_TOKEN']}"
   ]
  },
  {
   "cell_type": "markdown",
   "id": "coastal-settlement",
   "metadata": {
    "id": "e774df23-97ce-49f7-b048-9d373baaa33f"
   },
   "source": [
    "## 1. Register Scoring Endpoint in OpenScale"
   ]
  },
  {
   "cell_type": "code",
   "execution_count": 3,
   "id": "atmospheric-correction",
   "metadata": {
    "id": "5e16bea0-37cc-4456-9fac-394cecc3560e",
    "tags": []
   },
   "outputs": [
    {
     "data": {
      "text/plain": [
       "'3.0.28'"
      ]
     },
     "execution_count": 3,
     "metadata": {},
     "output_type": "execute_result"
    }
   ],
   "source": [
    "wos_client = wos_util.get_client()\n",
    "wos_client.version"
   ]
  },
  {
   "cell_type": "code",
   "execution_count": 4,
   "id": "english-manchester",
   "metadata": {
    "id": "59a764a3-1d55-4426-8c69-54abbd2058cf",
    "tags": []
   },
   "outputs": [
    {
     "name": "stdout",
     "output_type": "stream",
     "text": [
      "Deleted integrated system dummy metrics example dima\n"
     ]
    }
   ],
   "source": [
    "# Delete existing custom metrics provider integrated systems if present\n",
    "wos_util.integrated_system_delete(openscale_integrated_system_name,wos_client)"
   ]
  },
  {
   "cell_type": "code",
   "execution_count": 5,
   "id": "adjusted-convergence",
   "metadata": {
    "id": "5954c88b-4919-4301-99bb-7da6faab6c98",
    "tags": []
   },
   "outputs": [
    {
     "name": "stdout",
     "output_type": "stream",
     "text": [
      "17806f17-6014-438e-8321-945e17a17ddc\n"
     ]
    }
   ],
   "source": [
    "custom_metrics_integrated_system = IntegratedSystems(wos_client).add(\n",
    "    name=openscale_integrated_system_name,\n",
    "    description=openscale_integrated_system_name,\n",
    "    type=\"custom_metrics_provider\",\n",
    "    credentials= {\"auth_type\":\"bearer\",\n",
    "                  \"token_info\": {\n",
    "                      \"url\": \"{}/icp4d-api/v1/authorize\".format(os.environ['RUNTIME_ENV_APSX_URL']),\n",
    "                      \"headers\": {\"Content-Type\": \"application/json\",\n",
    "                                  \"Accept\": \"application/json\"},\n",
    "                      \"payload\": {'username':credentials['username'],\n",
    "                                   'api_key':credentials['api_key']},\n",
    "                      \"method\": \"post\"}\n",
    "                 },\n",
    "    connection={\"display_name\": openscale_integrated_system_name,\n",
    "                \"endpoint\": scoring_url\n",
    "    }).result\n",
    "\n",
    "integrated_system_id = custom_metrics_integrated_system.metadata.id\n",
    "print(integrated_system_id)"
   ]
  },
  {
   "cell_type": "markdown",
   "id": "welsh-collar",
   "metadata": {
    "id": "ba49f419-c235-4665-8fe1-7b9bc90f0968"
   },
   "source": [
    "## 2. Setup Custom Monitor Definition"
   ]
  },
  {
   "cell_type": "code",
   "execution_count": 6,
   "id": "flexible-dimension",
   "metadata": {
    "id": "0ddc5ed9-c29d-4cd0-b05b-20ba489e9ffc",
    "tags": []
   },
   "outputs": [],
   "source": [
    "openscale_monitor_defaults = {'sensitivity': {'threshold':[0.8,'lower']},\n",
    "                              'specificity': {'threshold':[0.9,'lower']}\n",
    "                             }"
   ]
  },
  {
   "cell_type": "code",
   "execution_count": 7,
   "id": "approximate-singing",
   "metadata": {
    "id": "7838408d-47f6-4ae4-8124-9ac7caa4f4aa",
    "tags": []
   },
   "outputs": [
    {
     "name": "stdout",
     "output_type": "stream",
     "text": [
      "Deleted existing monitor definition dummy monitor example dima (dummy_monitor_example_dima)\n",
      "\n",
      "\n",
      "=========================================================================\n",
      "\n",
      " Waiting for end of adding monitor definition dummy_monitor_example_dima \n",
      "\n",
      "=========================================================================\n",
      "\n",
      "\n",
      "\n",
      "finished\n",
      "\n",
      "-------------------------------------------------\n",
      " Successfully finished adding monitor definition \n",
      "-------------------------------------------------\n",
      "\n",
      "\n",
      "dummy_monitor_example_dima\n"
     ]
    }
   ],
   "source": [
    "monitor_id = wos_util.monitor_definition_create(openscale_monitor_name,\n",
    "                                                openscale_monitor_defaults,\n",
    "                                                wos_client,overwrite=True)\n",
    "print(monitor_id)"
   ]
  },
  {
   "cell_type": "code",
   "execution_count": 8,
   "id": "amended-faith",
   "metadata": {
    "id": "54eb062c-15e1-45cb-b832-0f72e5a0a337",
    "tags": []
   },
   "outputs": [
    {
     "data": {
      "text/html": [
       "<HTML>\n",
       "        <body>\n",
       "            <h3>Monitor definitions</h3>\n",
       "            <table style='border: 1px solid #dddddd; font-family: Courier'>\n",
       "                <th style='border: 1px solid #dddddd'>monitor id</th><th style='border: 1px solid #dddddd'>monitor name</th><th style='border: 1px solid #dddddd'>metrics names</th>\n",
       "                <tr><td style='border: 1px solid #dddddd'>dummy_monitor_example_dima</td><td style='border: 1px solid #dddddd'>dummy monitor example dima</td><td style='border: 1px solid #dddddd'>['sensitivity', 'specificity']</td></tr><tr><td style='border: 1px solid #dddddd'>generic_metrics_rn_1</td><td style='border: 1px solid #dddddd'>Generic Metrics rn_1</td><td style='border: 1px solid #dddddd'>['num_images_total_ground_truth', 'num_images_total_predicted', 'num_images_recent_ground_truth', 'num_images_recent_predicted']</td></tr><tr><td style='border: 1px solid #dddddd'>segmentation_metrics_rn_1</td><td style='border: 1px solid #dddddd'>Segmentation Metrics rn_1</td><td style='border: 1px solid #dddddd'>['precision', 'precision_positive', 'precision_negative', 'recall', 'recall_positive', 'recall_negative', 'f1', 'f1_positive', 'f1_negative', 'Dice', 'Dice_positive', 'Dice_negative', 'IOU', 'IOU_positive', 'IOU_negative', 'PixAcc', 'PixAcc_positive', 'PixAcc_negative']</td></tr><tr><td style='border: 1px solid #dddddd'>segmentation_metrics_rn</td><td style='border: 1px solid #dddddd'>segmentation_metrics_rn</td><td style='border: 1px solid #dddddd'>['precision', 'precision_positive', 'precision_negative', 'recall', 'recall_positive', 'recall_negative', 'f1', 'f1_positive', 'f1_negative', 'Dice', 'Dice_positive', 'Dice_negative', 'IOU', 'IOU_positive', 'IOU_negative', 'PixAcc', 'PixAcc_positive', 'PixAcc_negative']</td></tr><tr><td style='border: 1px solid #dddddd'>generic_metrics_rn</td><td style='border: 1px solid #dddddd'>generic_metrics_rn</td><td style='border: 1px solid #dddddd'>['num_images_total_ground_truth', 'num_images_total_predicted', 'num_images_recent_ground_truth', 'num_images_recent_predicted']</td></tr><tr><td style='border: 1px solid #dddddd'>generic_metrics_n2</td><td style='border: 1px solid #dddddd'>Generic Metrics n2</td><td style='border: 1px solid #dddddd'>['num_images_total_ground_truth', 'num_images_total_predicted', 'num_images_recent_ground_truth', 'num_images_recent_predicted']</td></tr><tr><td style='border: 1px solid #dddddd'>generic_metrics_n1</td><td style='border: 1px solid #dddddd'>Generic Metrics n1</td><td style='border: 1px solid #dddddd'>['num_images_total_ground_truth', 'num_images_total_predicted', 'num_images_recent_ground_truth', 'num_images_recent_predicted']</td></tr><tr><td style='border: 1px solid #dddddd'>segmentation_metrics_n1</td><td style='border: 1px solid #dddddd'>Segmentation Metrics n1</td><td style='border: 1px solid #dddddd'>['precision', 'precision_positive', 'precision_negative', 'recall', 'recall_positive', 'recall_negative', 'f1', 'f1_positive', 'f1_negative', 'Dice', 'Dice_positive', 'Dice_negative', 'IOU', 'IOU_positive', 'IOU_negative', 'PixAcc', 'PixAcc_positive', 'PixAcc_negative']</td></tr><tr><td style='border: 1px solid #dddddd'>test_sample_model_performance</td><td style='border: 1px solid #dddddd'>Test Sample Model Performance</td><td style='border: 1px solid #dddddd'>['sensitivity', 'specificity', 'gender_less40_fav_prediction_ratio']</td></tr><tr><td style='border: 1px solid #dddddd'>reirradiation_batch_api_performance</td><td style='border: 1px solid #dddddd'>ReIrradiation Batch API Performance</td><td style='border: 1px solid #dddddd'>['setup_time', 'process_time']</td></tr>\n",
       "            </table>\n",
       "        </body>\n",
       "        </HTML>"
      ],
      "text/plain": [
       "<IPython.core.display.HTML object>"
      ]
     },
     "metadata": {},
     "output_type": "display_data"
    },
    {
     "name": "stdout",
     "output_type": "stream",
     "text": [
      "Note: First 10 records were displayed.\n"
     ]
    }
   ],
   "source": [
    "wos_client.monitor_definitions.show()"
   ]
  },
  {
   "cell_type": "code",
   "execution_count": 9,
   "id": "biblical-raising",
   "metadata": {
    "id": "71aa692f-c2a6-473b-82c9-333e93457840",
    "tags": []
   },
   "outputs": [
    {
     "data": {
      "text/plain": [
       "{'metadata': {'id': 'dummy_monitor_example_dima',\n",
       "  'crn': 'crn:v1:bluemix:public:aiopenscale:us-south:a/na:00000000-0000-0000-0000-000000000000:monitor_definition:dummy_monitor_example_dima',\n",
       "  'url': '/v2/monitor_definitions/dummy_monitor_example_dima',\n",
       "  'created_at': '2023-09-08T14:28:05.310000Z',\n",
       "  'created_by': 'kharlad'},\n",
       " 'entity': {'name': 'dummy monitor example dima',\n",
       "  'metrics': [{'name': 'sensitivity',\n",
       "    'thresholds': [{'type': 'lower_limit', 'default': 0.8}],\n",
       "    'expected_direction': 'increasing',\n",
       "    'id': 'sensitivity'},\n",
       "   {'name': 'specificity',\n",
       "    'thresholds': [{'type': 'lower_limit', 'default': 0.9}],\n",
       "    'expected_direction': 'increasing',\n",
       "    'id': 'specificity'}],\n",
       "  'tags': []}}"
      ]
     },
     "execution_count": 9,
     "metadata": {},
     "output_type": "execute_result"
    }
   ],
   "source": [
    "wos_util.get_monitor_definition(wos_client,monitor_name=openscale_monitor_name)"
   ]
  },
  {
   "cell_type": "code",
   "execution_count": null,
   "id": "9fe5fea1-77b3-4f82-8535-8be4939e26be",
   "metadata": {
    "id": "9fe5fea1-77b3-4f82-8535-8be4939e26be"
   },
   "outputs": [],
   "source": []
  }
 ],
 "metadata": {
  "kernelspec": {
   "display_name": "Python 3.10",
   "language": "python",
   "name": "python3"
  },
  "language_info": {
   "codemirror_mode": {
    "name": "ipython",
    "version": 3
   },
   "file_extension": ".py",
   "mimetype": "text/x-python",
   "name": "python",
   "nbconvert_exporter": "python",
   "pygments_lexer": "ipython3",
   "version": "3.10.6"
  }
 },
 "nbformat": 4,
 "nbformat_minor": 5
}
