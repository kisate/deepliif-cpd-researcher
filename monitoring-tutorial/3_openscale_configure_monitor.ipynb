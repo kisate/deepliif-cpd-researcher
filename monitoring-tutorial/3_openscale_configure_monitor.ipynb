{
 "cells": [
  {
   "cell_type": "markdown",
   "id": "favorite-matter",
   "metadata": {
    "id": "d099020b-2f0b-403f-9384-ab66227d5978"
   },
   "source": [
    "# OpenScale Configuration\n",
    "\n",
    "This notebook \n",
    "1. creates a dummy subscription\n",
    "2. for the dummy subscription, creates and configures a custom monitor"
   ]
  },
  {
   "cell_type": "code",
   "execution_count": 1,
   "id": "impaired-certificate",
   "metadata": {
    "id": "e2ef5cb6-cd00-4605-b1d1-b6e8a88082da",
    "tags": []
   },
   "outputs": [],
   "source": [
    "import os\n",
    "import json\n",
    "from datetime import datetime, timezone, timedelta\n",
    "import time\n",
    "import uuid\n",
    "from ibm_watson_openscale.base_classes.watson_open_scale_v2 import WMLCredentialsCP4D\n",
    "import urllib3\n",
    "urllib3.disable_warnings(urllib3.exceptions.InsecureRequestWarning)\n",
    "\n",
    "import wos_sdk_utils as wos_util\n",
    "import wml_sdk_utils as wml_util"
   ]
  },
  {
   "cell_type": "code",
   "execution_count": 2,
   "id": "operating-strategy",
   "metadata": {
    "id": "e13165fb-f527-46bd-8810-dc8e780efd82",
    "tags": []
   },
   "outputs": [],
   "source": [
    "SERVICE_PROVIDER_NAME = \"OpenScale Headless Service Provider\"\n",
    "SUBSCRIPTION_NAME = \"cifar monitor dima\"\n",
    "\n",
    "WML_SPACE_ID = '934341dc-0a71-4d86-9c09-a47261359cca' \n",
    "\n",
    "WOS_GUID = '00000000-0000-0000-0000-000000000000'"
   ]
  },
  {
   "cell_type": "code",
   "execution_count": 3,
   "id": "average-registration",
   "metadata": {
    "id": "1bee7ffb-46dc-471a-8aae-3c259bda1791",
    "tags": []
   },
   "outputs": [],
   "source": [
    "wos_client = wos_util.get_client()\n",
    "wml_client = wml_util.get_client(space_id=WML_SPACE_ID)"
   ]
  },
  {
   "cell_type": "markdown",
   "id": "organic-series",
   "metadata": {
    "id": "1c26a1aa-b0f1-4990-be62-a189b7ffe8cb"
   },
   "source": [
    "## 1. Create Subscription\n",
    "Here we create a dummy subscription that does not link to a real deployment endpoint."
   ]
  },
  {
   "cell_type": "code",
   "execution_count": 4,
   "id": "animal-orchestra",
   "metadata": {
    "id": "89161e5a-609b-418a-a720-c3a9d68becac",
    "tags": []
   },
   "outputs": [],
   "source": [
    "from ibm_cloud_sdk_core.authenticators import BearerTokenAuthenticator\n",
    "from ibm_watson_openscale import *\n",
    "from ibm_watson_openscale.supporting_classes.enums import *\n",
    "from ibm_watson_openscale.supporting_classes import *\n",
    "from ibm_watson_openscale.base_classes.watson_open_scale_v2 import ScoringEndpointRequest\n",
    "from ibm_watson_openscale.base_classes.watson_open_scale_v2 import MonitorMeasurementRequest"
   ]
  },
  {
   "cell_type": "code",
   "execution_count": 5,
   "id": "material-delight",
   "metadata": {
    "id": "32c50c01-9d70-45e0-bb73-9c33f3fcab2a",
    "tags": []
   },
   "outputs": [
    {
     "name": "stdout",
     "output_type": "stream",
     "text": [
      "Service provider ID: 42431cc1-115a-49b8-b6b7-b73527804739\n"
     ]
    }
   ],
   "source": [
    "existing_providers_dict = wos_client.service_providers.list().get_result().to_dict()['service_providers']\n",
    "existing_providers = [sp['entity']['name'] for sp in existing_providers_dict]\n",
    "\n",
    "SERVICE_PROVIDER_ID = next((sp['metadata']['id'] for sp in existing_providers_dict \\\n",
    "                            if sp['entity']['name'] == SERVICE_PROVIDER_NAME))\n",
    "print(f\"Service provider ID: {SERVICE_PROVIDER_ID}\")"
   ]
  },
  {
   "cell_type": "code",
   "execution_count": 6,
   "id": "stainless-drawing",
   "metadata": {
    "id": "64de8cc3-7355-464c-bfe9-adfac8944689",
    "tags": []
   },
   "outputs": [
    {
     "data": {
      "text/html": [
       "<HTML>\n",
       "        <body>\n",
       "            <h3>Service Providers</h3>\n",
       "            <table style='border: 1px solid #dddddd; font-family: Courier'>\n",
       "                <th style='border: 1px solid #dddddd'>instance_id</th><th style='border: 1px solid #dddddd'>status</th><th style='border: 1px solid #dddddd'>name</th><th style='border: 1px solid #dddddd'>service_type</th><th style='border: 1px solid #dddddd'>created_at</th><th style='border: 1px solid #dddddd'>id</th>\n",
       "                <tr><td style='border: 1px solid #dddddd'>99999999-9999-9999-9999-999999999999</td><td style='border: 1px solid #dddddd'>active</td><td style='border: 1px solid #dddddd'>CDA-RF-WML-Production-ML-Engine</td><td style='border: 1px solid #dddddd'>watson_machine_learning</td><td style='border: 1px solid #dddddd'>2023-01-03 17:21:13.732000+00:00</td><td style='border: 1px solid #dddddd'>ae6df3e1-e5b3-4627-a792-849dfcf33386</td></tr><tr><td style='border: 1px solid #dddddd'>99999999-9999-9999-9999-999999999999</td><td style='border: 1px solid #dddddd'>active</td><td style='border: 1px solid #dddddd'>CDA-RF-WML-Production-ML-Engine-LOOP</td><td style='border: 1px solid #dddddd'>watson_machine_learning</td><td style='border: 1px solid #dddddd'>2022-12-09 17:48:55.433000+00:00</td><td style='border: 1px solid #dddddd'>8631fd83-0189-4033-8a76-05ef2874aecd</td></tr><tr><td style='border: 1px solid #dddddd'>99999999-9999-9999-9999-999999999999</td><td style='border: 1px solid #dddddd'>active</td><td style='border: 1px solid #dddddd'>HAT-RF-WML-Production-ML-Engine</td><td style='border: 1px solid #dddddd'>watson_machine_learning</td><td style='border: 1px solid #dddddd'>2022-11-30 22:10:36.242000+00:00</td><td style='border: 1px solid #dddddd'>85245064-c64f-4959-8e84-4f3467d30d09</td></tr><tr><td style='border: 1px solid #dddddd'>None</td><td style='border: 1px solid #dddddd'>active</td><td style='border: 1px solid #dddddd'>Custom Batch OpenScale Headless Service Provider</td><td style='border: 1px solid #dddddd'>custom_machine_learning</td><td style='border: 1px solid #dddddd'>2022-11-22 19:56:30.199000+00:00</td><td style='border: 1px solid #dddddd'>f72d0d69-e28d-4867-813a-d9182593d6cc</td></tr><tr><td style='border: 1px solid #dddddd'>None</td><td style='border: 1px solid #dddddd'>active</td><td style='border: 1px solid #dddddd'>Custom OpenScale Headless Service Provider</td><td style='border: 1px solid #dddddd'>custom_machine_learning</td><td style='border: 1px solid #dddddd'>2022-11-21 20:58:08.460000+00:00</td><td style='border: 1px solid #dddddd'>e79b02c6-b152-4594-9d34-a72c36b15c39</td></tr><tr><td style='border: 1px solid #dddddd'>None</td><td style='border: 1px solid #dddddd'>active</td><td style='border: 1px solid #dddddd'>OpenScale Headless Service Provider Ankur</td><td style='border: 1px solid #dddddd'>custom_machine_learning</td><td style='border: 1px solid #dddddd'>2022-11-01 16:48:15.026000+00:00</td><td style='border: 1px solid #dddddd'>af1ccfc4-8b93-4798-9f15-d51c48e96ff7</td></tr><tr><td style='border: 1px solid #dddddd'>99999999-9999-9999-9999-999999999999</td><td style='border: 1px solid #dddddd'>active</td><td style='border: 1px solid #dddddd'>WML CPD QA Models</td><td style='border: 1px solid #dddddd'>watson_machine_learning</td><td style='border: 1px solid #dddddd'>2022-10-28 18:27:03.051000+00:00</td><td style='border: 1px solid #dddddd'>4f9f388b-6d2a-4203-bab7-0a231bb46b71</td></tr><tr><td style='border: 1px solid #dddddd'>99999999-9999-9999-9999-999999999999</td><td style='border: 1px solid #dddddd'>active</td><td style='border: 1px solid #dddddd'>New provider</td><td style='border: 1px solid #dddddd'>watson_machine_learning</td><td style='border: 1px solid #dddddd'>2022-05-11 19:23:02.488000+00:00</td><td style='border: 1px solid #dddddd'>500f0632-1200-4dea-9929-d0f557bddd6b</td></tr><tr><td style='border: 1px solid #dddddd'>None</td><td style='border: 1px solid #dddddd'>active</td><td style='border: 1px solid #dddddd'>OpenScale Headless Service Provider</td><td style='border: 1px solid #dddddd'>custom_machine_learning</td><td style='border: 1px solid #dddddd'>2022-05-03 14:45:46.933000+00:00</td><td style='border: 1px solid #dddddd'>42431cc1-115a-49b8-b6b7-b73527804739</td></tr><tr><td style='border: 1px solid #dddddd'>99999999-9999-9999-9999-999999999999</td><td style='border: 1px solid #dddddd'>active</td><td style='border: 1px solid #dddddd'>WOS ExpressPath WML pre_production binding</td><td style='border: 1px solid #dddddd'>watson_machine_learning</td><td style='border: 1px solid #dddddd'>2022-01-13 06:19:31.996000+00:00</td><td style='border: 1px solid #dddddd'>ae0d9dae-8599-400a-bcb9-0b5ab9e004f6</td></tr>\n",
       "            </table>\n",
       "        </body>\n",
       "        </HTML>"
      ],
      "text/plain": [
       "<IPython.core.display.HTML object>"
      ]
     },
     "metadata": {},
     "output_type": "display_data"
    }
   ],
   "source": [
    "wos_client.service_providers.show()"
   ]
  },
  {
   "cell_type": "code",
   "execution_count": 7,
   "id": "surface-aviation",
   "metadata": {
    "id": "40360718-21be-4d42-9f02-a05771c7f238",
    "tags": []
   },
   "outputs": [
    {
     "name": "stdout",
     "output_type": "stream",
     "text": [
      "Subscription ID: bfe4dd9d-44e2-4dfc-95a3-d1d8dc65d09c\n"
     ]
    }
   ],
   "source": [
    "existing_subscriptions_dict = wos_client.subscriptions.list().get_result().to_dict()['subscriptions']\n",
    "existing_subscriptions = [sp['entity']['asset']['name'] for sp in existing_subscriptions_dict]\n",
    "\n",
    "if not SUBSCRIPTION_NAME in existing_subscriptions:\n",
    "    \n",
    "    # generate dummy information\n",
    "    ASSET_ID = str(uuid.uuid4())\n",
    "    ASSET_NAME = SUBSCRIPTION_NAME\n",
    "    url = ''\n",
    "\n",
    "    ASSET_DEPLOYMENT_ID = str(uuid.uuid4())\n",
    "    ASSET_DEPLOYMENT_NAME = SUBSCRIPTION_NAME\n",
    "    \n",
    "    # pass dummy information to create a dummy subscription\n",
    "    subscription_details = wos_client.subscriptions.add(\n",
    "        data_mart_id=WOS_GUID,\n",
    "        service_provider_id=SERVICE_PROVIDER_ID,\n",
    "        asset=Asset(\n",
    "            asset_id=ASSET_ID,\n",
    "            name=ASSET_NAME,\n",
    "            url=url,\n",
    "            asset_type=AssetTypes.MODEL,\n",
    "            input_data_type=InputDataType.STRUCTURED,\n",
    "            problem_type=ProblemType.MULTICLASS_CLASSIFICATION\n",
    "        ),\n",
    "        deployment=AssetDeploymentRequest(\n",
    "            deployment_id=ASSET_DEPLOYMENT_ID,\n",
    "            name=ASSET_DEPLOYMENT_NAME,\n",
    "            deployment_type= DeploymentTypes.ONLINE\n",
    "        ),\n",
    "        asset_properties=AssetPropertiesRequest(\n",
    "            probability_fields=['probability']\n",
    "            )\n",
    "    ).result\n",
    "    \n",
    "    SUBSCRIPTION_ID = subscription_details.metadata.id\n",
    "    print(\"Subscription ID: {}\".format(SUBSCRIPTION_ID))\n",
    "else:\n",
    "    SUBSCRIPTION_ID = next((sp['metadata']['id'] for sp in existing_subscriptions_dict \\\n",
    "                            if sp['entity']['asset']['name'] == SUBSCRIPTION_NAME))\n",
    "    print(\"Subscription ID: {}\".format(SUBSCRIPTION_ID))"
   ]
  },
  {
   "cell_type": "code",
   "execution_count": 8,
   "id": "forward-circulation",
   "metadata": {
    "id": "1dc5c86e-7dfb-402d-93bc-c54ea18a0251",
    "tags": []
   },
   "outputs": [
    {
     "data": {
      "text/html": [
       "<HTML>\n",
       "        <body>\n",
       "            <h3>Subscriptions</h3>\n",
       "            <table style='border: 1px solid #dddddd; font-family: Courier'>\n",
       "                <th style='border: 1px solid #dddddd'>asset_id</th><th style='border: 1px solid #dddddd'>asset_name</th><th style='border: 1px solid #dddddd'>data_mart_id</th><th style='border: 1px solid #dddddd'>deployment_id</th><th style='border: 1px solid #dddddd'>deployment_name</th><th style='border: 1px solid #dddddd'>service_provider_id</th><th style='border: 1px solid #dddddd'>status</th><th style='border: 1px solid #dddddd'>created_at</th><th style='border: 1px solid #dddddd'>id</th>\n",
       "                <tr><td style='border: 1px solid #dddddd'>42466796-50e7-4fb5-bf2f-ae25c5905733</td><td style='border: 1px solid #dddddd'>cifar monitor dima</td><td style='border: 1px solid #dddddd'>00000000-0000-0000-0000-000000000000</td><td style='border: 1px solid #dddddd'>60eebfe4-2a53-465d-8ebe-203159999982</td><td style='border: 1px solid #dddddd'>cifar monitor dima</td><td style='border: 1px solid #dddddd'>42431cc1-115a-49b8-b6b7-b73527804739</td><td style='border: 1px solid #dddddd'>active</td><td style='border: 1px solid #dddddd'>2023-08-30 16:58:37.340000+00:00</td><td style='border: 1px solid #dddddd'>bfe4dd9d-44e2-4dfc-95a3-d1d8dc65d09c</td></tr><tr><td style='border: 1px solid #dddddd'>f7f9c761-3325-4e56-bd30-6be1198e6e66</td><td style='border: 1px solid #dddddd'>deepliif_n3 Monitor</td><td style='border: 1px solid #dddddd'>00000000-0000-0000-0000-000000000000</td><td style='border: 1px solid #dddddd'>9baecffe-2e0d-45a7-a348-dc6f67bd0056</td><td style='border: 1px solid #dddddd'>deepliif_n3 Monitor</td><td style='border: 1px solid #dddddd'>42431cc1-115a-49b8-b6b7-b73527804739</td><td style='border: 1px solid #dddddd'>active</td><td style='border: 1px solid #dddddd'>2023-04-19 18:13:20.460000+00:00</td><td style='border: 1px solid #dddddd'>fbf8c686-14fc-48eb-974a-16f7fb0ee84f</td></tr><tr><td style='border: 1px solid #dddddd'>3ad53d98-50ec-437e-92e9-26f84c73c458</td><td style='border: 1px solid #dddddd'>deepliif_n1 Monitor</td><td style='border: 1px solid #dddddd'>00000000-0000-0000-0000-000000000000</td><td style='border: 1px solid #dddddd'>7a41f299-f3b2-481a-85ec-05aa0b45b45f</td><td style='border: 1px solid #dddddd'>deepliif_n1 Monitor</td><td style='border: 1px solid #dddddd'>42431cc1-115a-49b8-b6b7-b73527804739</td><td style='border: 1px solid #dddddd'>active</td><td style='border: 1px solid #dddddd'>2023-04-19 18:12:52.597000+00:00</td><td style='border: 1px solid #dddddd'>03a47713-22c9-4abc-af47-bbff5bbdcb24</td></tr><tr><td style='border: 1px solid #dddddd'>3afec4d0-163e-40a0-ae85-940c4b8a654d</td><td style='border: 1px solid #dddddd'>Watson Discovery and QA LM Function</td><td style='border: 1px solid #dddddd'>00000000-0000-0000-0000-000000000000</td><td style='border: 1px solid #dddddd'>525d97d1-3493-40ff-8858-2387f79775cb</td><td style='border: 1px solid #dddddd'>QA Model API Deployment</td><td style='border: 1px solid #dddddd'>4f9f388b-6d2a-4203-bab7-0a231bb46b71</td><td style='border: 1px solid #dddddd'>active</td><td style='border: 1px solid #dddddd'>2023-03-31 17:11:50.692000+00:00</td><td style='border: 1px solid #dddddd'>9038951d-3427-4a26-a3fb-9d20a036a46d</td></tr><tr><td style='border: 1px solid #dddddd'>7baf76c0-580d-45d3-a4ae-9155d3d4d728</td><td style='border: 1px solid #dddddd'>cda_rf_full_fn_arglen</td><td style='border: 1px solid #dddddd'>00000000-0000-0000-0000-000000000000</td><td style='border: 1px solid #dddddd'>f22358b7-9762-421c-88af-4845e0297e04</td><td style='border: 1px solid #dddddd'>cda_rf_full_test_arglen</td><td style='border: 1px solid #dddddd'>ae6df3e1-e5b3-4627-a792-849dfcf33386</td><td style='border: 1px solid #dddddd'>active</td><td style='border: 1px solid #dddddd'>2023-03-30 16:45:55.156000+00:00</td><td style='border: 1px solid #dddddd'>cc0a3e76-058c-46b1-8025-8663fd6ca7ba</td></tr><tr><td style='border: 1px solid #dddddd'>8287e4f2-ddee-4522-bdfa-31687f37b830</td><td style='border: 1px solid #dddddd'>[asset] Test Custom Metrics Provider Deployment</td><td style='border: 1px solid #dddddd'>00000000-0000-0000-0000-000000000000</td><td style='border: 1px solid #dddddd'>c483f448-1672-4372-9486-8e5b91607f02</td><td style='border: 1px solid #dddddd'>Test Custom Metrics Provider Deployment</td><td style='border: 1px solid #dddddd'>42431cc1-115a-49b8-b6b7-b73527804739</td><td style='border: 1px solid #dddddd'>active</td><td style='border: 1px solid #dddddd'>2023-03-28 04:55:36.360000+00:00</td><td style='border: 1px solid #dddddd'>3718e14c-afb6-43b7-966d-befae1cb7bb0</td></tr><tr><td style='border: 1px solid #dddddd'>28331543-330d-44fe-8f6d-2388a1089617</td><td style='border: 1px solid #dddddd'>deepliifDeployment3 Monitor</td><td style='border: 1px solid #dddddd'>00000000-0000-0000-0000-000000000000</td><td style='border: 1px solid #dddddd'>c2757670-7c72-44d2-a0a7-44430cfd3e9e</td><td style='border: 1px solid #dddddd'>deepliifDeployment3 Monitor</td><td style='border: 1px solid #dddddd'>42431cc1-115a-49b8-b6b7-b73527804739</td><td style='border: 1px solid #dddddd'>active</td><td style='border: 1px solid #dddddd'>2023-03-24 14:41:48.654000+00:00</td><td style='border: 1px solid #dddddd'>01af89b3-cdd7-4b41-a4a5-5087801f86e6</td></tr><tr><td style='border: 1px solid #dddddd'>1b4e903f-c93c-4386-932a-96eb01d79b28</td><td style='border: 1px solid #dddddd'>cda_rf_v1</td><td style='border: 1px solid #dddddd'>00000000-0000-0000-0000-000000000000</td><td style='border: 1px solid #dddddd'>3723f8f9-d07d-4a1c-a351-d192b4cc90a1</td><td style='border: 1px solid #dddddd'>test_deployment_ko</td><td style='border: 1px solid #dddddd'>ae6df3e1-e5b3-4627-a792-849dfcf33386</td><td style='border: 1px solid #dddddd'>active</td><td style='border: 1px solid #dddddd'>2023-03-23 17:57:28.150000+00:00</td><td style='border: 1px solid #dddddd'>26b1c6bf-077a-4db7-9e1a-0ef1cf3afc53</td></tr><tr><td style='border: 1px solid #dddddd'>ac0b730f-2386-4896-9812-e7369f82a193</td><td style='border: 1px solid #dddddd'>cda_rf_full_test_jsonfile</td><td style='border: 1px solid #dddddd'>00000000-0000-0000-0000-000000000000</td><td style='border: 1px solid #dddddd'>3840d9fe-31b1-447c-a1af-e4c1a6a730cb</td><td style='border: 1px solid #dddddd'>cda_rf_full_test_jsonfile</td><td style='border: 1px solid #dddddd'>ae6df3e1-e5b3-4627-a792-849dfcf33386</td><td style='border: 1px solid #dddddd'>active</td><td style='border: 1px solid #dddddd'>2023-03-21 19:11:40.499000+00:00</td><td style='border: 1px solid #dddddd'>c86ae131-4606-44d5-be9c-ae642986c301</td></tr><tr><td style='border: 1px solid #dddddd'>35552613-7b90-45ff-99b2-f7f33e9e5a99</td><td style='border: 1px solid #dddddd'>cda_rf_full_test</td><td style='border: 1px solid #dddddd'>00000000-0000-0000-0000-000000000000</td><td style='border: 1px solid #dddddd'>6c874831-717e-44c6-9bf9-dc7073cc1654</td><td style='border: 1px solid #dddddd'>cda_rf_full_test</td><td style='border: 1px solid #dddddd'>ae6df3e1-e5b3-4627-a792-849dfcf33386</td><td style='border: 1px solid #dddddd'>active</td><td style='border: 1px solid #dddddd'>2023-03-13 20:10:03.125000+00:00</td><td style='border: 1px solid #dddddd'>d7d1049f-017e-4920-b68c-1dfec25f824c</td></tr>\n",
       "            </table>\n",
       "        </body>\n",
       "        </HTML>"
      ],
      "text/plain": [
       "<IPython.core.display.HTML object>"
      ]
     },
     "metadata": {},
     "output_type": "display_data"
    },
    {
     "name": "stdout",
     "output_type": "stream",
     "text": [
      "Note: First 10 records were displayed.\n"
     ]
    }
   ],
   "source": [
    "wos_client.subscriptions.show()"
   ]
  },
  {
   "cell_type": "markdown",
   "id": "distant-potter",
   "metadata": {
    "id": "c80a8f62-2aa3-436b-b85e-a97c0042e743"
   },
   "source": [
    "## 2. Configure Custom Metric Monitors"
   ]
  },
  {
   "cell_type": "markdown",
   "id": "statutory-sector",
   "metadata": {
    "id": "e968edf9-cbd8-4bcb-9d5a-62a320d8125a"
   },
   "source": [
    "### Check existence of custom monitor instance"
   ]
  },
  {
   "cell_type": "code",
   "execution_count": 9,
   "id": "cutting-massage",
   "metadata": {
    "id": "8e2b72fb-e7c8-4dc3-92af-3bc5def80808",
    "tags": []
   },
   "outputs": [],
   "source": [
    "monitor_id = 'dummy_monitor_example_dima'"
   ]
  },
  {
   "cell_type": "code",
   "execution_count": 10,
   "id": "motivated-cradle",
   "metadata": {
    "id": "c2cb7c2b-40b7-4f4d-a6f8-d2fee31b0ba1",
    "tags": []
   },
   "outputs": [
    {
     "name": "stdout",
     "output_type": "stream",
     "text": [
      "No existing instance for monitor dummy_monitor_example_dima found with subscription bfe4dd9d-44e2-4dfc-95a3-d1d8dc65d09c\n"
     ]
    }
   ],
   "source": [
    "existing_monitor_instance = wos_util.get_monitor_instance(monitor_id,SUBSCRIPTION_ID,wos_client)\n",
    "existing_monitor_instance"
   ]
  },
  {
   "cell_type": "markdown",
   "id": "excessive-blackjack",
   "metadata": {
    "id": "5323f4f8-94e1-4ce7-93d8-3abde807ea67"
   },
   "source": [
    "### Create one custom monitor instance per monitor"
   ]
  },
  {
   "cell_type": "code",
   "execution_count": 11,
   "id": "rubber-audit",
   "metadata": {
    "id": "23af683f-ac89-43ca-a7e7-ed32460b52ce",
    "tags": []
   },
   "outputs": [],
   "source": [
    "integrated_system_id = '9e9ed5ba-b462-422c-b9cb-cb3becbdfb9d'\n",
    "custom_metrics_wait_time = 360 # time in seconds "
   ]
  },
  {
   "cell_type": "code",
   "execution_count": 12,
   "id": "bizarre-blame",
   "metadata": {
    "id": "597368d7-8784-46af-8375-b7ea60d937be",
    "tags": []
   },
   "outputs": [
    {
     "name": "stdout",
     "output_type": "stream",
     "text": [
      "\n",
      "\n",
      "===================================================================================\n",
      "\n",
      " Waiting for end of monitor instance creation 5dbdb0bf-d2ed-44c8-98ab-8bc066d1c1fc \n",
      "\n",
      "===================================================================================\n",
      "\n",
      "\n",
      "\n",
      "active\n",
      "\n",
      "---------------------------------------\n",
      " Monitor instance successfully created \n",
      "---------------------------------------\n",
      "\n",
      "\n"
     ]
    },
    {
     "data": {
      "text/plain": [
       "<ibm_watson_openscale.base_classes.watson_open_scale_v2.MonitorInstanceResponse at 0x7ff4b1057f70>"
      ]
     },
     "execution_count": 12,
     "metadata": {},
     "output_type": "execute_result"
    }
   ],
   "source": [
    "# If it does not exist, then create one\n",
    "if existing_monitor_instance is None:\n",
    "    target = Target(\n",
    "            target_type=TargetTypes.SUBSCRIPTION,\n",
    "            target_id=SUBSCRIPTION_ID\n",
    "        )\n",
    "    parameters = {\n",
    "        \"custom_metrics_provider_id\": integrated_system_id,\n",
    "        \"custom_metrics_wait_time\":   custom_metrics_wait_time \n",
    "    }\n",
    "\n",
    "    # Update the threshold for metrics in your custom monitor metric\n",
    "    thresholds = [ MetricThresholdOverride(metric_id='sensitivity', type = MetricThresholdTypes.LOWER_LIMIT, value=100),\n",
    "                   MetricThresholdOverride(metric_id='specificity', type = MetricThresholdTypes.LOWER_LIMIT, value=800)]\n",
    "\n",
    "    # create the custom monitor instance id here.\n",
    "    custom_monitor_instance_details = wos_client.monitor_instances.create(\n",
    "                data_mart_id=WOS_GUID,\n",
    "                background_mode=False,\n",
    "                monitor_definition_id=monitor_id,\n",
    "                target=target,\n",
    "                parameters=parameters,\n",
    "                thresholds = thresholds\n",
    "    ).result\n",
    "else:\n",
    "    pass\n",
    "\n",
    "custom_monitor_instance_details"
   ]
  },
  {
   "cell_type": "markdown",
   "id": "bulgarian-declaration",
   "metadata": {
    "id": "bb4d670b-c757-4b54-8882-4ddb3a77cbe7"
   },
   "source": [
    "### Manual Evaluation"
   ]
  },
  {
   "cell_type": "code",
   "execution_count": 13,
   "id": "laughing-ratio",
   "metadata": {
    "id": "929dd514-83c2-4e7b-9825-1390753c4936",
    "tags": []
   },
   "outputs": [
    {
     "name": "stderr",
     "output_type": "stream",
     "text": [
      "Failure during scoring. (POST https://internal-nginx-svc.cpd.svc.cluster.local:12443/ml/v4/deployments/ec591e05-6548-401f-a0d5-6f804b9f4d13/predictions?version=2021-06-24)\n",
      "Status code: 404, body: {\"trace\":\"b67ea50630a5c16fb38b06395b6b0e58\",\"errors\":[{\"code\":\"deployment_not_found\",\"message\":\"Deployment with id 'ec591e05-6548-401f-a0d5-6f804b9f4d13' does not exist. Re-try with a valid deployment id.\"}]}\n"
     ]
    },
    {
     "name": "stdout",
     "output_type": "stream",
     "text": [
      "****************************** dummy_monitor_example_dima ******************************\n"
     ]
    },
    {
     "ename": "ApiRequestFailure",
     "evalue": "Failure during scoring. (POST https://internal-nginx-svc.cpd.svc.cluster.local:12443/ml/v4/deployments/ec591e05-6548-401f-a0d5-6f804b9f4d13/predictions?version=2021-06-24)\nStatus code: 404, body: {\"trace\":\"b67ea50630a5c16fb38b06395b6b0e58\",\"errors\":[{\"code\":\"deployment_not_found\",\"message\":\"Deployment with id 'ec591e05-6548-401f-a0d5-6f804b9f4d13' does not exist. Re-try with a valid deployment id.\"}]}",
     "output_type": "error",
     "traceback": [
      "\u001b[0;31m---------------------------------------------------------------------------\u001b[0m",
      "\u001b[0;31mApiRequestFailure\u001b[0m                         Traceback (most recent call last)",
      "Input \u001b[0;32mIn [13]\u001b[0m, in \u001b[0;36m<cell line: 31>\u001b[0;34m()\u001b[0m\n\u001b[1;32m     26\u001b[0m input_data\u001b[38;5;241m=\u001b[39m { \u001b[38;5;124m\"\u001b[39m\u001b[38;5;124minput_data\u001b[39m\u001b[38;5;124m\"\u001b[39m: [ { \u001b[38;5;124m\"\u001b[39m\u001b[38;5;124mvalues\u001b[39m\u001b[38;5;124m\"\u001b[39m: payload } ]\n\u001b[1;32m     27\u001b[0m             }\n\u001b[1;32m     29\u001b[0m \u001b[38;5;66;03m#     print(input_data)\u001b[39;00m\n\u001b[0;32m---> 31\u001b[0m job_details \u001b[38;5;241m=\u001b[39m \u001b[43mwml_client\u001b[49m\u001b[38;5;241;43m.\u001b[39;49m\u001b[43mdeployments\u001b[49m\u001b[38;5;241;43m.\u001b[39;49m\u001b[43mscore\u001b[49m\u001b[43m(\u001b[49m\u001b[43mwml_deployment_id\u001b[49m\u001b[43m,\u001b[49m\u001b[43m \u001b[49m\u001b[43minput_data\u001b[49m\u001b[43m)\u001b[49m\n\u001b[1;32m     32\u001b[0m pprint(job_details)\n",
      "File \u001b[0;32m/opt/conda/envs/Python-3.10-Premium/lib/python3.10/site-packages/ibm_watson_machine_learning/deployments.py:704\u001b[0m, in \u001b[0;36mDeployments.score\u001b[0;34m(self, deployment_id, meta_props, transaction_id)\u001b[0m\n\u001b[1;32m    698\u001b[0m \u001b[38;5;28;01melse\u001b[39;00m:\n\u001b[1;32m    699\u001b[0m     response_scoring \u001b[38;5;241m=\u001b[39m requests\u001b[38;5;241m.\u001b[39mpost(\n\u001b[1;32m    700\u001b[0m         scoring_url,\n\u001b[1;32m    701\u001b[0m         json\u001b[38;5;241m=\u001b[39mpayload,\n\u001b[1;32m    702\u001b[0m         headers\u001b[38;5;241m=\u001b[39mheaders)\n\u001b[0;32m--> 704\u001b[0m \u001b[38;5;28;01mreturn\u001b[39;00m \u001b[38;5;28;43mself\u001b[39;49m\u001b[38;5;241;43m.\u001b[39;49m\u001b[43m_handle_response\u001b[49m\u001b[43m(\u001b[49m\u001b[38;5;241;43m200\u001b[39;49m\u001b[43m,\u001b[49m\u001b[43m \u001b[49m\u001b[38;5;124;43mu\u001b[39;49m\u001b[38;5;124;43m'\u001b[39;49m\u001b[38;5;124;43mscoring\u001b[39;49m\u001b[38;5;124;43m'\u001b[39;49m\u001b[43m,\u001b[49m\u001b[43m \u001b[49m\u001b[43mresponse_scoring\u001b[49m\u001b[43m)\u001b[49m\n",
      "File \u001b[0;32m/opt/conda/envs/Python-3.10-Premium/lib/python3.10/site-packages/ibm_watson_machine_learning/wml_resource.py:64\u001b[0m, in \u001b[0;36mWMLResource._handle_response\u001b[0;34m(self, expected_status_code, operationName, response, json_response)\u001b[0m\n\u001b[1;32m     62\u001b[0m         \u001b[38;5;28;01mreturn\u001b[39;00m response\u001b[38;5;241m.\u001b[39mtext\n\u001b[1;32m     63\u001b[0m \u001b[38;5;28;01melse\u001b[39;00m:\n\u001b[0;32m---> 64\u001b[0m     \u001b[38;5;28;01mraise\u001b[39;00m ApiRequestFailure(\u001b[38;5;124mu\u001b[39m\u001b[38;5;124m'\u001b[39m\u001b[38;5;124mFailure during \u001b[39m\u001b[38;5;132;01m{}\u001b[39;00m\u001b[38;5;124m.\u001b[39m\u001b[38;5;124m'\u001b[39m\u001b[38;5;241m.\u001b[39mformat(operationName), response)\n",
      "\u001b[0;31mApiRequestFailure\u001b[0m: Failure during scoring. (POST https://internal-nginx-svc.cpd.svc.cluster.local:12443/ml/v4/deployments/ec591e05-6548-401f-a0d5-6f804b9f4d13/predictions?version=2021-06-24)\nStatus code: 404, body: {\"trace\":\"b67ea50630a5c16fb38b06395b6b0e58\",\"errors\":[{\"code\":\"deployment_not_found\",\"message\":\"Deployment with id 'ec591e05-6548-401f-a0d5-6f804b9f4d13' does not exist. Re-try with a valid deployment id.\"}]}"
     ]
    }
   ],
   "source": [
    "import uuid\n",
    "from pprint import pprint\n",
    "\n",
    "subscription_id = SUBSCRIPTION_ID\n",
    "wml_deployment_id = 'ec591e05-6548-401f-a0d5-6f804b9f4d13'\n",
    "\n",
    "print('*'*30,monitor_id,'*'*30)\n",
    "parameters = {\n",
    "    \"custom_metrics_provider_id\": integrated_system_id,\n",
    "    \"custom_metrics_wait_time\":   custom_metrics_wait_time,\n",
    "    \"run_details\": {\n",
    "    \"run_id\": str(uuid.uuid4()),\n",
    "    \"run_status\": \"Running\"\n",
    "    }\n",
    "}\n",
    "\n",
    "payload= {\n",
    "    \"data_mart_id\" : WOS_GUID,\n",
    "    \"subscription_id\" : subscription_id,\n",
    "    \"custom_monitor_id\" : monitor_id,\n",
    "    \"custom_monitor_instance_id\" : custom_monitor_instance_details.metadata.id,\n",
    "    \"custom_monitor_instance_params\": parameters\n",
    "\n",
    "}\n",
    "\n",
    "input_data= { \"input_data\": [ { \"values\": payload } ]\n",
    "            }\n",
    "\n",
    "#     print(input_data)\n",
    "\n",
    "job_details = wml_client.deployments.score(wml_deployment_id, input_data)\n",
    "pprint(job_details)"
   ]
  },
  {
   "cell_type": "code",
   "execution_count": null,
   "id": "5b9a536b-80e9-432e-8353-8e18ee50340e",
   "metadata": {
    "id": "5b9a536b-80e9-432e-8353-8e18ee50340e"
   },
   "outputs": [],
   "source": []
  }
 ],
 "metadata": {
  "kernelspec": {
   "display_name": "Python 3.10",
   "language": "python",
   "name": "python3"
  },
  "language_info": {
   "codemirror_mode": {
    "name": "ipython",
    "version": 3
   },
   "file_extension": ".py",
   "mimetype": "text/x-python",
   "name": "python",
   "nbconvert_exporter": "python",
   "pygments_lexer": "ipython3",
   "version": "3.10.6"
  }
 },
 "nbformat": 4,
 "nbformat_minor": 5
}
