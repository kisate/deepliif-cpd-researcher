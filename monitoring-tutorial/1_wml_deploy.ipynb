{
 "cells": [
  {
   "cell_type": "markdown",
   "id": "alike-istanbul",
   "metadata": {
    "id": "482cd097-e673-48fa-974b-a37911460a11"
   },
   "source": [
    "# Deploy Function in WML"
   ]
  },
  {
   "cell_type": "code",
   "execution_count": 1,
   "id": "square-ceiling",
   "metadata": {
    "id": "71e64a8e-dcc5-4a71-893f-688e6d00ac0c",
    "tags": []
   },
   "outputs": [],
   "source": [
    "import os\n",
    "import wml_sdk_utils as wml_util"
   ]
  },
  {
   "cell_type": "code",
   "execution_count": 2,
   "id": "completed-consultation",
   "metadata": {
    "id": "2aa92c1b-d307-4abf-9d7a-d6f6fac796b5",
    "tags": []
   },
   "outputs": [],
   "source": [
    "WML_SPACE_ID = '934341dc-0a71-4d86-9c09-a47261359cca'"
   ]
  },
  {
   "cell_type": "code",
   "execution_count": 3,
   "id": "piano-soccer",
   "metadata": {
    "id": "58a1d42d-97ee-4a0b-8d10-a7bb431397aa",
    "tags": []
   },
   "outputs": [
    {
     "data": {
      "text/plain": [
       "'1.0.286'"
      ]
     },
     "execution_count": 3,
     "metadata": {},
     "output_type": "execute_result"
    }
   ],
   "source": [
    "wml_client = wml_util.get_client(space_id=WML_SPACE_ID)\n",
    "wml_client.version"
   ]
  },
  {
   "cell_type": "code",
   "execution_count": 14,
   "id": "reasonable-walnut",
   "metadata": {
    "id": "468f6d78-06a0-4db4-9902-6dd493064de6",
    "tags": []
   },
   "outputs": [
    {
     "name": "stdout",
     "output_type": "stream",
     "text": [
      "------------------------------------  --------------------------------------------  ------------------------  ------  -----------  -------------------\n",
      "GUID                                  NAME                                          CREATED                   TYPE    SPEC_STATE   SPEC_REPLACEMENT\n",
      "25ce5086-ac88-4a8e-93ec-dab1439f6ce3  generic metrics wendy                         2023-09-08T14:27:26.002Z  python  supported\n",
      "69c52d18-4f9a-4f8e-805b-687e8f8372cd  wml dummy function dima                       2023-09-08T14:25:47.002Z  python  supported\n",
      "4b5ce464-6460-4780-b585-3d4160e4daa9  wml dummy function carlin                     2022-05-11T19:11:08.002Z  python  unsupported  runtime-22.2-py3.10\n",
      "95176c20-64f9-41e7-8804-78d8912864af  Segmentation Metrics Provider Function wendy  2022-05-11T17:32:30.002Z  python  unsupported  runtime-22.2-py3.10\n",
      "------------------------------------  --------------------------------------------  ------------------------  ------  -----------  -------------------\n"
     ]
    }
   ],
   "source": [
    "wml_client.repository.list_functions()"
   ]
  },
  {
   "cell_type": "markdown",
   "id": "mysterious-variance",
   "metadata": {
    "id": "c3e0d2ac-5999-4789-83e0-2e3bbf4b4f26"
   },
   "source": [
    "#### input schema\n",
    "`{\"input_data\":[{\"values\":[<something>]}]}`\n",
    "- the input has to have a field \"input_data\"\n",
    "- the list passed to \"values\" cannot be empty\n",
    "- you can have more name-value pairs as you wish, for example:\n",
    "```\n",
    "{\"input_data\": [{\"values\":[None],\"myparam\": \"abc\"}]}\n",
    "{\"input_data\": [{\"values\":[None]}], \"myparam\": \"abc\"}\n",
    "```\n",
    "\n",
    "\n",
    "#### output schema\n",
    "`{\"predictions\":[]}`\n",
    "- the output has to have a field \"predictions\"\n",
    "- you can add your own name-value pairs as you wish similar to the input schema:\n",
    "```\n",
    "{\"predictions\":[\"myparam\":\"abc\"]}\n",
    "{\"predictions\":[],\"myparam\":\"abc\"}\n",
    "```"
   ]
  },
  {
   "cell_type": "markdown",
   "id": "natural-penguin",
   "metadata": {
    "id": "518ea06b-4527-400c-b5be-ab9116a31cae"
   },
   "source": [
    "## Deploy a Dummy Function"
   ]
  },
  {
   "cell_type": "code",
   "execution_count": 5,
   "id": "incorporate-square",
   "metadata": {
    "id": "ac1c92a2-fc9c-47c3-bc20-8270fcb40d9a",
    "tags": []
   },
   "outputs": [],
   "source": [
    "path_script = 'wml_deployable_function_dummy.py'\n",
    "function_name = 'wml dummy function dima'\n",
    "deploy_name = 'wml dummy function deploy dima'"
   ]
  },
  {
   "cell_type": "code",
   "execution_count": 6,
   "id": "a2eeb6d1-d4ff-4a06-b84d-00d24905f659",
   "metadata": {
    "id": "a2eeb6d1-d4ff-4a06-b84d-00d24905f659",
    "tags": []
   },
   "outputs": [
    {
     "data": {
      "text/plain": [
       "'https://internal-nginx-svc.cpd.svc.cluster.local:12443/ml/v4/functions'"
      ]
     },
     "execution_count": 6,
     "metadata": {},
     "output_type": "execute_result"
    }
   ],
   "source": [
    "wml_client.service_instance._href_definitions.get_functions_href()"
   ]
  },
  {
   "cell_type": "code",
   "execution_count": 7,
   "id": "manual-paint",
   "metadata": {
    "id": "582e93f6-97c5-42e3-96c3-b670dbc7b4d5",
    "tags": []
   },
   "outputs": [
    {
     "name": "stdout",
     "output_type": "stream",
     "text": [
      "Deleted deployment wml dummy function deploy dima (ec591e05-6548-401f-a0d5-6f804b9f4d13) associated with asset wml dummy function dima (c44f7b8d-c984-4860-b946-a8d637cc3903).\n",
      "Deleted function asset wml dummy function dima (c44f7b8d-c984-4860-b946-a8d637cc3903).\n",
      "b56101f1-309d-549b-a849-eaa63f77b2fb\n",
      "Function UID = 69c52d18-4f9a-4f8e-805b-687e8f8372cd\n",
      "deleting tmp/wml_deployable_function_dummy.py.gz...\n",
      "69c52d18-4f9a-4f8e-805b-687e8f8372cd\n"
     ]
    }
   ],
   "source": [
    "function_asset_id = wml_util.function_store(path_script,wml_client,function_name=function_name)\n",
    "print(function_asset_id)"
   ]
  },
  {
   "cell_type": "code",
   "execution_count": 8,
   "id": "driven-emperor",
   "metadata": {
    "id": "c10b0de2-c082-4280-8eb5-700315662851",
    "tags": []
   },
   "outputs": [
    {
     "name": "stdout",
     "output_type": "stream",
     "text": [
      "\n",
      "\n",
      "#######################################################################################\n",
      "\n",
      "Synchronous deployment creation for uid: '69c52d18-4f9a-4f8e-805b-687e8f8372cd' started\n",
      "\n",
      "#######################################################################################\n",
      "\n",
      "\n",
      "initializing\n",
      "Note: online_url is deprecated and will be removed in a future release. Use serving_urls instead.\n",
      ".......\n",
      "ready\n",
      "\n",
      "\n",
      "------------------------------------------------------------------------------------------------\n",
      "Successfully finished deployment creation, deployment_uid='b4ba1fa5-295a-4f40-9417-edc020a49d8a'\n",
      "------------------------------------------------------------------------------------------------\n",
      "\n",
      "\n",
      "b4ba1fa5-295a-4f40-9417-edc020a49d8a https://internal-nginx-svc.cpd.svc.cluster.local:12443/ml/v4/deployments/b4ba1fa5-295a-4f40-9417-edc020a49d8a/predictions?version=2023-09-08\n"
     ]
    }
   ],
   "source": [
    "deployment_id,scoring_url = wml_util.function_deploy(function_asset_id,wml_client,function_deployment_name=deploy_name)\n",
    "print(deployment_id,scoring_url)"
   ]
  },
  {
   "cell_type": "code",
   "execution_count": 9,
   "id": "mineral-configuration",
   "metadata": {
    "id": "edcd42c4-b952-4e33-978b-dd18da064576",
    "tags": []
   },
   "outputs": [
    {
     "data": {
      "text/plain": [
       "<Response [400]>"
      ]
     },
     "execution_count": 9,
     "metadata": {},
     "output_type": "execute_result"
    }
   ],
   "source": [
    "import requests\n",
    "import json\n",
    "\n",
    "headers = {'Authorization':'Bearer '+os.environ['USER_ACCESS_TOKEN'],\n",
    "           'Content-Type':'application/json'}\n",
    "\n",
    "payload = {'input_data':[{'values':[None]}],\n",
    "           'batch_id':1,\n",
    "           'batch_label':114}\n",
    "\n",
    "res = requests.post(url=scoring_url,\n",
    "                    data=json.dumps(payload),\n",
    "                    headers=headers,\n",
    "                    verify=False)\n",
    "res"
   ]
  },
  {
   "cell_type": "code",
   "execution_count": 10,
   "id": "peripheral-hours",
   "metadata": {
    "id": "343178e5-1f12-42ce-b866-4ed4def56b0c",
    "tags": []
   },
   "outputs": [
    {
     "data": {
      "text/plain": [
       "b'{\"trace\":\"7b32dbee947da8b796a1adde9e26df82\",\"errors\":[{\"code\":\"score_processing_failure\",\"message\":\"[Errno 2] No such file or directory: \\'data/cifar-10-batches-py/data_batch_1\\'\"}],\"status_code\":400}'"
      ]
     },
     "execution_count": 10,
     "metadata": {},
     "output_type": "execute_result"
    }
   ],
   "source": [
    "res.content"
   ]
  },
  {
   "cell_type": "markdown",
   "id": "brave-disposition",
   "metadata": {
    "id": "b774d2b2-df35-4751-b8b6-8a1f16705f7d"
   },
   "source": [
    "## Deploy A Dummy Custom Metric Provider"
   ]
  },
  {
   "cell_type": "code",
   "execution_count": 11,
   "id": "straight-trail",
   "metadata": {
    "id": "f3568dc3-6de0-4ec3-9b35-f4bcb46b3e1e",
    "tags": []
   },
   "outputs": [],
   "source": [
    "path_script = 'custom_metrics_dummy.py'\n",
    "function_name = 'generic metrics wendy'\n",
    "deploy_name = 'generic metrics deploy wendy'"
   ]
  },
  {
   "cell_type": "code",
   "execution_count": 12,
   "id": "voluntary-individual",
   "metadata": {
    "id": "9a64f3a6-def4-4d8b-9aaa-0e4026a5e207",
    "tags": []
   },
   "outputs": [
    {
     "name": "stdout",
     "output_type": "stream",
     "text": [
      "Deleted deployment generic metrics deploy wendy (c452ff9b-51a0-48eb-8e7a-ff2ab07e7b83) associated with asset generic metrics wendy (041d8b87-8316-4cf0-86a4-e19f925270fd).\n",
      "Deleted function asset generic metrics wendy (041d8b87-8316-4cf0-86a4-e19f925270fd).\n",
      "b56101f1-309d-549b-a849-eaa63f77b2fb\n",
      "Function UID = 25ce5086-ac88-4a8e-93ec-dab1439f6ce3\n",
      "deleting tmp/custom_metrics_dummy.py.gz...\n",
      "25ce5086-ac88-4a8e-93ec-dab1439f6ce3\n"
     ]
    }
   ],
   "source": [
    "function_asset_id = wml_util.function_store(path_script,wml_client,function_name=function_name)\n",
    "print(function_asset_id)"
   ]
  },
  {
   "cell_type": "code",
   "execution_count": 13,
   "id": "fitted-standing",
   "metadata": {
    "id": "429851d6-7fce-43ab-a86a-79150f472f19",
    "tags": []
   },
   "outputs": [
    {
     "name": "stdout",
     "output_type": "stream",
     "text": [
      "\n",
      "\n",
      "#######################################################################################\n",
      "\n",
      "Synchronous deployment creation for uid: '25ce5086-ac88-4a8e-93ec-dab1439f6ce3' started\n",
      "\n",
      "#######################################################################################\n",
      "\n",
      "\n",
      "initializing\n",
      "Note: online_url is deprecated and will be removed in a future release. Use serving_urls instead.\n",
      ".......\n",
      "ready\n",
      "\n",
      "\n",
      "------------------------------------------------------------------------------------------------\n",
      "Successfully finished deployment creation, deployment_uid='ea9882a8-9a2e-40bf-a0c6-e8a50ec93764'\n",
      "------------------------------------------------------------------------------------------------\n",
      "\n",
      "\n",
      "ea9882a8-9a2e-40bf-a0c6-e8a50ec93764 https://internal-nginx-svc.cpd.svc.cluster.local:12443/ml/v4/deployments/ea9882a8-9a2e-40bf-a0c6-e8a50ec93764/predictions?version=2023-09-08\n"
     ]
    }
   ],
   "source": [
    "deployment_id,scoring_url = wml_util.function_deploy(function_asset_id,wml_client,function_deployment_name=deploy_name)\n",
    "print(deployment_id,scoring_url)"
   ]
  },
  {
   "cell_type": "markdown",
   "id": "unavailable-depth",
   "metadata": {
    "id": "4319ff9f-ced9-4c33-946c-48dbe128e6a3"
   },
   "source": [
    "#### Sadly you cannot really test this endpoint until you have a real openscale subscription."
   ]
  }
 ],
 "metadata": {
  "kernelspec": {
   "display_name": "Python 3.10",
   "language": "python",
   "name": "python3"
  },
  "language_info": {
   "codemirror_mode": {
    "name": "ipython",
    "version": 3
   },
   "file_extension": ".py",
   "mimetype": "text/x-python",
   "name": "python",
   "nbconvert_exporter": "python",
   "pygments_lexer": "ipython3",
   "version": "3.10.6"
  }
 },
 "nbformat": 4,
 "nbformat_minor": 5
}
